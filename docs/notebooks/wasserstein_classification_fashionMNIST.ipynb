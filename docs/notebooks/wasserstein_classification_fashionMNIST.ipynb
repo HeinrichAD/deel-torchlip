{
 "cells": [
  {
   "cell_type": "markdown",
   "metadata": {},
   "source": [
    "# Example 4: HKR multiclass and fooling\n",
    "\n",
    "This notebook will show how to train a Lispchitz network in a multiclass configuration.\n",
    "The HKR (hinge-Kantorovich-Rubinstein) loss is extended to multiclass using a one-vs all\n",
    "setup. The notebook will go through the process of designing and training the network.\n",
    "It will also show how to compute robustness certificates from the outputs of the\n",
    "network. Finally the guarantee of these certificates will be checked by attacking the\n",
    "network.\n"
   ]
  },
  {
   "cell_type": "markdown",
   "metadata": {},
   "source": [
    "## 1. Data preparation\n",
    "\n",
    "For this example, the `fashion_mnist` dataset is used. In order to keep things simple,\n",
    "no data augmentation is performed.\n"
   ]
  },
  {
   "cell_type": "code",
   "execution_count": 1,
   "metadata": {},
   "outputs": [],
   "source": [
    "import torch\n",
    "from torchvision import datasets, transforms\n",
    "\n",
    "train_set = datasets.FashionMNIST(\n",
    "    root=\"./data\",\n",
    "    download=True,\n",
    "    train=True,\n",
    "    transform=transforms.ToTensor(),\n",
    ")\n",
    "\n",
    "test_set = datasets.FashionMNIST(\n",
    "    root=\"./data\",\n",
    "    download=True,\n",
    "    train=False,\n",
    "    transform=transforms.ToTensor(),\n",
    ")\n",
    "\n",
    "batch_size = 4096\n",
    "train_loader = torch.utils.data.DataLoader(train_set, batch_size, shuffle=True)\n",
    "test_loader = torch.utils.data.DataLoader(test_set, batch_size)\n"
   ]
  },
  {
   "cell_type": "markdown",
   "metadata": {},
   "source": [
    "## 2. Model architecture\n",
    "\n",
    "The original one-vs-all setup would require 10 different networks (1 per class).\n",
    "However, we use in practice a network with a common body and a Lipschitz head (linear\n",
    "layer) containing 10 output neurons, like any standard network for multiclass\n",
    "classification. Note that each head neuron is not a 1-Lipschitz function; however the\n",
    "overall head with the 10 outputs is 1-Lipschitz.\n",
    "\n",
    "#### Notes about constraint enforcement\n",
    "\n",
    "There are currently 3 ways to enforce the Lipschitz constraint in a network:\n",
    "\n",
    "1. weight regularization\n",
    "2. weight reparametrization\n",
    "3. weight projection\n",
    "\n",
    "Weight regularization doesn’t provide the required guarantees as it is only a\n",
    "regularization term. Weight reparametrization is available in `torchlip` and is done\n",
    "directly in the layers (parameter `niter_bjorck`). This trick allows to perform\n",
    "arbitrary gradient updates without breaking the constraint. However this is done in the\n",
    "graph, increasing resources consumption. Weight projection is not implemented in\n",
    "`torchlip`.\n"
   ]
  },
  {
   "cell_type": "code",
   "execution_count": 2,
   "metadata": {},
   "outputs": [
    {
     "name": "stderr",
     "output_type": "stream",
     "text": [
      "Sequential model contains a layer which is not a Lipschitz layer: Flatten(start_dim=1, end_dim=-1)\n"
     ]
    },
    {
     "data": {
      "text/plain": [
       "Sequential(\n",
       "  (0): SpectralConv2d(1, 16, kernel_size=(3, 3), stride=(1, 1), padding=same)\n",
       "  (1): GroupSort2()\n",
       "  (2): ScaledL2NormPool2d(kernel_size=(2, 2), stride=(2, 2), padding=0)\n",
       "  (3): SpectralConv2d(16, 32, kernel_size=(3, 3), stride=(1, 1), padding=same)\n",
       "  (4): GroupSort2()\n",
       "  (5): ScaledL2NormPool2d(kernel_size=(2, 2), stride=(2, 2), padding=0)\n",
       "  (6): Flatten(start_dim=1, end_dim=-1)\n",
       "  (7): SpectralLinear(in_features=1568, out_features=64, bias=True)\n",
       "  (8): GroupSort2()\n",
       "  (9): FrobeniusLinear(in_features=64, out_features=10, bias=False)\n",
       ")"
      ]
     },
     "execution_count": 2,
     "metadata": {},
     "output_type": "execute_result"
    }
   ],
   "source": [
    "from deel import torchlip\n",
    "\n",
    "# Sequential has the same properties as any Lipschitz layer. It only acts as a\n",
    "# container, with features specific to Lipschitz functions (condensation,\n",
    "# vanilla_exportation, ...)\n",
    "model = torchlip.Sequential(\n",
    "    # Lipschitz layers preserve the API of their superclass (here Conv2d). An optional\n",
    "    # argument is available, k_coef_lip, which controls the Lipschitz constant of the\n",
    "    # layer\n",
    "    torchlip.SpectralConv2d(\n",
    "        in_channels=1, out_channels=16, kernel_size=(3, 3), padding=\"same\"\n",
    "    ),\n",
    "    torchlip.GroupSort2(),\n",
    "    # Usual pooling layer are implemented (avg, max), but new pooling layers are also\n",
    "    # available\n",
    "    torchlip.ScaledL2NormPool2d(kernel_size=(2, 2)),\n",
    "    torchlip.SpectralConv2d(\n",
    "        in_channels=16, out_channels=32, kernel_size=(3, 3), padding=\"same\"\n",
    "    ),\n",
    "    torchlip.GroupSort2(),\n",
    "    torchlip.ScaledL2NormPool2d(kernel_size=(2, 2)),\n",
    "    # Our layers are fully interoperable with existing PyTorch layers\n",
    "    torch.nn.Flatten(),\n",
    "    torchlip.SpectralLinear(1568, 64),\n",
    "    torchlip.GroupSort2(),\n",
    "    torchlip.FrobeniusLinear(64, 10, bias=False),\n",
    "    # Similarly, model has a parameter to set the Lipschitz constant that automatically\n",
    "    # sets the constant of each layer.\n",
    "    k_coef_lip=1.0,\n",
    ")\n",
    "\n",
    "device = torch.device(\"cuda\" if torch.cuda.is_available() else \"cpu\")\n",
    "model.to(device)\n"
   ]
  },
  {
   "cell_type": "markdown",
   "metadata": {},
   "source": [
    "## 3. HKR loss and training\n",
    "\n",
    "The multiclass HKR loss can be found in the `hkr_multiclass_loss` function or in the\n",
    "`HKRMulticlassLoss` class. The loss has two parameters: `alpha` and `min_margin`.\n",
    "Decreasing `alpha` and increasing `min_margin` improve robustness (at the cost of\n",
    "accuracy). Note also in the case of Lipschitz networks, more robustness requires more\n",
    "parameters. For more information, see [our paper](https://arxiv.org/abs/2006.06520).\n",
    "\n",
    "In this setup, choosing `alpha=100` and `min_margin=.25` provides good robustness\n",
    "without hurting the accuracy too much.\n",
    "\n",
    "Finally the `kr_multiclass_loss` gives an indication on the robustness of the network\n",
    "(proxy of the average certificate).\n"
   ]
  },
  {
   "cell_type": "code",
   "execution_count": 3,
   "metadata": {},
   "outputs": [
    {
     "data": {
      "application/vnd.jupyter.widget-view+json": {
       "model_id": "e085987ecb70493bbfebb2796c590a8a",
       "version_major": 2,
       "version_minor": 0
      },
      "text/plain": [
       "  0%|          | 0/100 [00:00<?, ?it/s]"
      ]
     },
     "metadata": {},
     "output_type": "display_data"
    },
    {
     "data": {
      "application/vnd.jupyter.widget-view+json": {
       "model_id": "40a462e743f44af081e0b82cb06b9156",
       "version_major": 2,
       "version_minor": 0
      },
      "text/plain": [
       "  0%|          | 0/15 [00:00<?, ?it/s]"
      ]
     },
     "metadata": {},
     "output_type": "display_data"
    },
    {
     "data": {
      "application/vnd.jupyter.widget-view+json": {
       "model_id": "9abf024404c34ea08b120dc71dd92e5d",
       "version_major": 2,
       "version_minor": 0
      },
      "text/plain": [
       "  0%|          | 0/15 [00:00<?, ?it/s]"
      ]
     },
     "metadata": {},
     "output_type": "display_data"
    },
    {
     "data": {
      "application/vnd.jupyter.widget-view+json": {
       "model_id": "ec72766016be453197acb0cc4e5464bd",
       "version_major": 2,
       "version_minor": 0
      },
      "text/plain": [
       "  0%|          | 0/15 [00:00<?, ?it/s]"
      ]
     },
     "metadata": {},
     "output_type": "display_data"
    },
    {
     "data": {
      "application/vnd.jupyter.widget-view+json": {
       "model_id": "9136fd10aa54405194257d145adf0604",
       "version_major": 2,
       "version_minor": 0
      },
      "text/plain": [
       "  0%|          | 0/15 [00:00<?, ?it/s]"
      ]
     },
     "metadata": {},
     "output_type": "display_data"
    },
    {
     "data": {
      "application/vnd.jupyter.widget-view+json": {
       "model_id": "fed448fb17c94da4a5fc40ccc1702acf",
       "version_major": 2,
       "version_minor": 0
      },
      "text/plain": [
       "  0%|          | 0/15 [00:00<?, ?it/s]"
      ]
     },
     "metadata": {},
     "output_type": "display_data"
    },
    {
     "data": {
      "application/vnd.jupyter.widget-view+json": {
       "model_id": "0a8c49ee537f4f6b80fd167c949a6463",
       "version_major": 2,
       "version_minor": 0
      },
      "text/plain": [
       "  0%|          | 0/15 [00:00<?, ?it/s]"
      ]
     },
     "metadata": {},
     "output_type": "display_data"
    },
    {
     "data": {
      "application/vnd.jupyter.widget-view+json": {
       "model_id": "48b262141e424aefaccdeedc2912405b",
       "version_major": 2,
       "version_minor": 0
      },
      "text/plain": [
       "  0%|          | 0/15 [00:00<?, ?it/s]"
      ]
     },
     "metadata": {},
     "output_type": "display_data"
    },
    {
     "data": {
      "application/vnd.jupyter.widget-view+json": {
       "model_id": "6e29adedd62441b293bbc73b0fb13e01",
       "version_major": 2,
       "version_minor": 0
      },
      "text/plain": [
       "  0%|          | 0/15 [00:00<?, ?it/s]"
      ]
     },
     "metadata": {},
     "output_type": "display_data"
    },
    {
     "data": {
      "application/vnd.jupyter.widget-view+json": {
       "model_id": "71d5f1ce22724593ac2175bf445818e9",
       "version_major": 2,
       "version_minor": 0
      },
      "text/plain": [
       "  0%|          | 0/15 [00:00<?, ?it/s]"
      ]
     },
     "metadata": {},
     "output_type": "display_data"
    },
    {
     "data": {
      "application/vnd.jupyter.widget-view+json": {
       "model_id": "0062ac6cabd54c5a9f06e110f732fab2",
       "version_major": 2,
       "version_minor": 0
      },
      "text/plain": [
       "  0%|          | 0/15 [00:00<?, ?it/s]"
      ]
     },
     "metadata": {},
     "output_type": "display_data"
    },
    {
     "data": {
      "application/vnd.jupyter.widget-view+json": {
       "model_id": "ea48705e3800421a9f307638b6468303",
       "version_major": 2,
       "version_minor": 0
      },
      "text/plain": [
       "  0%|          | 0/15 [00:00<?, ?it/s]"
      ]
     },
     "metadata": {},
     "output_type": "display_data"
    },
    {
     "data": {
      "application/vnd.jupyter.widget-view+json": {
       "model_id": "430a0919e57649b68e5e7740ee864c92",
       "version_major": 2,
       "version_minor": 0
      },
      "text/plain": [
       "  0%|          | 0/15 [00:00<?, ?it/s]"
      ]
     },
     "metadata": {},
     "output_type": "display_data"
    },
    {
     "data": {
      "application/vnd.jupyter.widget-view+json": {
       "model_id": "47583c56de304bce8bf71d85362b5bc4",
       "version_major": 2,
       "version_minor": 0
      },
      "text/plain": [
       "  0%|          | 0/15 [00:00<?, ?it/s]"
      ]
     },
     "metadata": {},
     "output_type": "display_data"
    },
    {
     "data": {
      "application/vnd.jupyter.widget-view+json": {
       "model_id": "43b7f98a3a1e498ea6fee6e82d17bdfb",
       "version_major": 2,
       "version_minor": 0
      },
      "text/plain": [
       "  0%|          | 0/15 [00:00<?, ?it/s]"
      ]
     },
     "metadata": {},
     "output_type": "display_data"
    },
    {
     "data": {
      "application/vnd.jupyter.widget-view+json": {
       "model_id": "fc06094a0eb443a09b8054cea79ac6fb",
       "version_major": 2,
       "version_minor": 0
      },
      "text/plain": [
       "  0%|          | 0/15 [00:00<?, ?it/s]"
      ]
     },
     "metadata": {},
     "output_type": "display_data"
    },
    {
     "data": {
      "application/vnd.jupyter.widget-view+json": {
       "model_id": "927e254d9b114f9da82a9c4bb18ae4b8",
       "version_major": 2,
       "version_minor": 0
      },
      "text/plain": [
       "  0%|          | 0/15 [00:00<?, ?it/s]"
      ]
     },
     "metadata": {},
     "output_type": "display_data"
    },
    {
     "data": {
      "application/vnd.jupyter.widget-view+json": {
       "model_id": "60417beebff64c68a683a037970631de",
       "version_major": 2,
       "version_minor": 0
      },
      "text/plain": [
       "  0%|          | 0/15 [00:00<?, ?it/s]"
      ]
     },
     "metadata": {},
     "output_type": "display_data"
    },
    {
     "data": {
      "application/vnd.jupyter.widget-view+json": {
       "model_id": "ddaf8f3897674029b85dd4556ca462f5",
       "version_major": 2,
       "version_minor": 0
      },
      "text/plain": [
       "  0%|          | 0/15 [00:00<?, ?it/s]"
      ]
     },
     "metadata": {},
     "output_type": "display_data"
    },
    {
     "data": {
      "application/vnd.jupyter.widget-view+json": {
       "model_id": "21a5b6d690654b50a918aad2c8806eaa",
       "version_major": 2,
       "version_minor": 0
      },
      "text/plain": [
       "  0%|          | 0/15 [00:00<?, ?it/s]"
      ]
     },
     "metadata": {},
     "output_type": "display_data"
    },
    {
     "data": {
      "application/vnd.jupyter.widget-view+json": {
       "model_id": "6c6fd223ae9047929b3c542398424045",
       "version_major": 2,
       "version_minor": 0
      },
      "text/plain": [
       "  0%|          | 0/15 [00:00<?, ?it/s]"
      ]
     },
     "metadata": {},
     "output_type": "display_data"
    },
    {
     "data": {
      "application/vnd.jupyter.widget-view+json": {
       "model_id": "aad1615b4add4c2ba029d7741247129a",
       "version_major": 2,
       "version_minor": 0
      },
      "text/plain": [
       "  0%|          | 0/15 [00:00<?, ?it/s]"
      ]
     },
     "metadata": {},
     "output_type": "display_data"
    },
    {
     "data": {
      "application/vnd.jupyter.widget-view+json": {
       "model_id": "820e98938c50422a96cdc8ffac2326a3",
       "version_major": 2,
       "version_minor": 0
      },
      "text/plain": [
       "  0%|          | 0/15 [00:00<?, ?it/s]"
      ]
     },
     "metadata": {},
     "output_type": "display_data"
    },
    {
     "data": {
      "application/vnd.jupyter.widget-view+json": {
       "model_id": "8065ddbb51644d5eb674487f3f55cf00",
       "version_major": 2,
       "version_minor": 0
      },
      "text/plain": [
       "  0%|          | 0/15 [00:00<?, ?it/s]"
      ]
     },
     "metadata": {},
     "output_type": "display_data"
    },
    {
     "data": {
      "application/vnd.jupyter.widget-view+json": {
       "model_id": "355d294777fb46d48c815bc786058c2f",
       "version_major": 2,
       "version_minor": 0
      },
      "text/plain": [
       "  0%|          | 0/15 [00:00<?, ?it/s]"
      ]
     },
     "metadata": {},
     "output_type": "display_data"
    },
    {
     "data": {
      "application/vnd.jupyter.widget-view+json": {
       "model_id": "11d6e0bcde5c46be8fd54bb45decc85a",
       "version_major": 2,
       "version_minor": 0
      },
      "text/plain": [
       "  0%|          | 0/15 [00:00<?, ?it/s]"
      ]
     },
     "metadata": {},
     "output_type": "display_data"
    },
    {
     "data": {
      "application/vnd.jupyter.widget-view+json": {
       "model_id": "f4ec1344458f46bd81f7d4f723a4a38f",
       "version_major": 2,
       "version_minor": 0
      },
      "text/plain": [
       "  0%|          | 0/15 [00:00<?, ?it/s]"
      ]
     },
     "metadata": {},
     "output_type": "display_data"
    },
    {
     "data": {
      "application/vnd.jupyter.widget-view+json": {
       "model_id": "cc2e730d97a1423e8be9a718b9ed2eb2",
       "version_major": 2,
       "version_minor": 0
      },
      "text/plain": [
       "  0%|          | 0/15 [00:00<?, ?it/s]"
      ]
     },
     "metadata": {},
     "output_type": "display_data"
    },
    {
     "data": {
      "application/vnd.jupyter.widget-view+json": {
       "model_id": "178adbfc79ce430b97b0decabe4429a3",
       "version_major": 2,
       "version_minor": 0
      },
      "text/plain": [
       "  0%|          | 0/15 [00:00<?, ?it/s]"
      ]
     },
     "metadata": {},
     "output_type": "display_data"
    },
    {
     "data": {
      "application/vnd.jupyter.widget-view+json": {
       "model_id": "6da2c447265044a5827adc659281ed14",
       "version_major": 2,
       "version_minor": 0
      },
      "text/plain": [
       "  0%|          | 0/15 [00:00<?, ?it/s]"
      ]
     },
     "metadata": {},
     "output_type": "display_data"
    },
    {
     "data": {
      "application/vnd.jupyter.widget-view+json": {
       "model_id": "e1388fee733940f1b8f4d1da8b228da6",
       "version_major": 2,
       "version_minor": 0
      },
      "text/plain": [
       "  0%|          | 0/15 [00:00<?, ?it/s]"
      ]
     },
     "metadata": {},
     "output_type": "display_data"
    },
    {
     "data": {
      "application/vnd.jupyter.widget-view+json": {
       "model_id": "e6a53b0d552d479bae58edf04171bdee",
       "version_major": 2,
       "version_minor": 0
      },
      "text/plain": [
       "  0%|          | 0/15 [00:00<?, ?it/s]"
      ]
     },
     "metadata": {},
     "output_type": "display_data"
    },
    {
     "data": {
      "application/vnd.jupyter.widget-view+json": {
       "model_id": "e753748f0cdc4c328530d296fccfdde3",
       "version_major": 2,
       "version_minor": 0
      },
      "text/plain": [
       "  0%|          | 0/15 [00:00<?, ?it/s]"
      ]
     },
     "metadata": {},
     "output_type": "display_data"
    },
    {
     "data": {
      "application/vnd.jupyter.widget-view+json": {
       "model_id": "479f3910770b44d790486cba3d8ea6e9",
       "version_major": 2,
       "version_minor": 0
      },
      "text/plain": [
       "  0%|          | 0/15 [00:00<?, ?it/s]"
      ]
     },
     "metadata": {},
     "output_type": "display_data"
    },
    {
     "data": {
      "application/vnd.jupyter.widget-view+json": {
       "model_id": "7c00549e5bda486cae4a0cce5831307d",
       "version_major": 2,
       "version_minor": 0
      },
      "text/plain": [
       "  0%|          | 0/15 [00:00<?, ?it/s]"
      ]
     },
     "metadata": {},
     "output_type": "display_data"
    },
    {
     "data": {
      "application/vnd.jupyter.widget-view+json": {
       "model_id": "200b35d0688d43c98d3fb625c16ce8c8",
       "version_major": 2,
       "version_minor": 0
      },
      "text/plain": [
       "  0%|          | 0/15 [00:00<?, ?it/s]"
      ]
     },
     "metadata": {},
     "output_type": "display_data"
    },
    {
     "data": {
      "application/vnd.jupyter.widget-view+json": {
       "model_id": "eede3c0fbde647be91066c751adcabb6",
       "version_major": 2,
       "version_minor": 0
      },
      "text/plain": [
       "  0%|          | 0/15 [00:00<?, ?it/s]"
      ]
     },
     "metadata": {},
     "output_type": "display_data"
    },
    {
     "data": {
      "application/vnd.jupyter.widget-view+json": {
       "model_id": "6b89592c2cc94f41b2b19da4085e6a89",
       "version_major": 2,
       "version_minor": 0
      },
      "text/plain": [
       "  0%|          | 0/15 [00:00<?, ?it/s]"
      ]
     },
     "metadata": {},
     "output_type": "display_data"
    },
    {
     "data": {
      "application/vnd.jupyter.widget-view+json": {
       "model_id": "5b58daf4d4f943d58a0bd37c84e4e104",
       "version_major": 2,
       "version_minor": 0
      },
      "text/plain": [
       "  0%|          | 0/15 [00:00<?, ?it/s]"
      ]
     },
     "metadata": {},
     "output_type": "display_data"
    },
    {
     "data": {
      "application/vnd.jupyter.widget-view+json": {
       "model_id": "79c1c0a2d9ba49ff8ec5118a84a23484",
       "version_major": 2,
       "version_minor": 0
      },
      "text/plain": [
       "  0%|          | 0/15 [00:00<?, ?it/s]"
      ]
     },
     "metadata": {},
     "output_type": "display_data"
    },
    {
     "data": {
      "application/vnd.jupyter.widget-view+json": {
       "model_id": "38fe6c1f0aa1487c9cba45a62e1bb56f",
       "version_major": 2,
       "version_minor": 0
      },
      "text/plain": [
       "  0%|          | 0/15 [00:00<?, ?it/s]"
      ]
     },
     "metadata": {},
     "output_type": "display_data"
    },
    {
     "data": {
      "application/vnd.jupyter.widget-view+json": {
       "model_id": "158b9749199340e3b21d16d0d98a3662",
       "version_major": 2,
       "version_minor": 0
      },
      "text/plain": [
       "  0%|          | 0/15 [00:00<?, ?it/s]"
      ]
     },
     "metadata": {},
     "output_type": "display_data"
    },
    {
     "data": {
      "application/vnd.jupyter.widget-view+json": {
       "model_id": "8517d53a8f3c4e52a8d24d4255186962",
       "version_major": 2,
       "version_minor": 0
      },
      "text/plain": [
       "  0%|          | 0/15 [00:00<?, ?it/s]"
      ]
     },
     "metadata": {},
     "output_type": "display_data"
    },
    {
     "data": {
      "application/vnd.jupyter.widget-view+json": {
       "model_id": "3e1ce8c0112f464a91b93c74d3b0284e",
       "version_major": 2,
       "version_minor": 0
      },
      "text/plain": [
       "  0%|          | 0/15 [00:00<?, ?it/s]"
      ]
     },
     "metadata": {},
     "output_type": "display_data"
    },
    {
     "data": {
      "application/vnd.jupyter.widget-view+json": {
       "model_id": "800bf3c77b164924b7ecbad7f97751c0",
       "version_major": 2,
       "version_minor": 0
      },
      "text/plain": [
       "  0%|          | 0/15 [00:00<?, ?it/s]"
      ]
     },
     "metadata": {},
     "output_type": "display_data"
    },
    {
     "data": {
      "application/vnd.jupyter.widget-view+json": {
       "model_id": "815fb7d94099419aaa3c10da6baa466a",
       "version_major": 2,
       "version_minor": 0
      },
      "text/plain": [
       "  0%|          | 0/15 [00:00<?, ?it/s]"
      ]
     },
     "metadata": {},
     "output_type": "display_data"
    },
    {
     "data": {
      "application/vnd.jupyter.widget-view+json": {
       "model_id": "a200ba6323384738ab73bd9d4dc91a9f",
       "version_major": 2,
       "version_minor": 0
      },
      "text/plain": [
       "  0%|          | 0/15 [00:00<?, ?it/s]"
      ]
     },
     "metadata": {},
     "output_type": "display_data"
    },
    {
     "data": {
      "application/vnd.jupyter.widget-view+json": {
       "model_id": "f33c15c91e75478386fe03a1d3479d9d",
       "version_major": 2,
       "version_minor": 0
      },
      "text/plain": [
       "  0%|          | 0/15 [00:00<?, ?it/s]"
      ]
     },
     "metadata": {},
     "output_type": "display_data"
    },
    {
     "data": {
      "application/vnd.jupyter.widget-view+json": {
       "model_id": "19a3d72e74b145ca8b10d9542b4b9211",
       "version_major": 2,
       "version_minor": 0
      },
      "text/plain": [
       "  0%|          | 0/15 [00:00<?, ?it/s]"
      ]
     },
     "metadata": {},
     "output_type": "display_data"
    },
    {
     "data": {
      "application/vnd.jupyter.widget-view+json": {
       "model_id": "eea6ed1308fc458d8cf7396ef194450b",
       "version_major": 2,
       "version_minor": 0
      },
      "text/plain": [
       "  0%|          | 0/15 [00:00<?, ?it/s]"
      ]
     },
     "metadata": {},
     "output_type": "display_data"
    },
    {
     "data": {
      "application/vnd.jupyter.widget-view+json": {
       "model_id": "f3dd650050ca4eaa9bfa4361b62a0570",
       "version_major": 2,
       "version_minor": 0
      },
      "text/plain": [
       "  0%|          | 0/15 [00:00<?, ?it/s]"
      ]
     },
     "metadata": {},
     "output_type": "display_data"
    },
    {
     "data": {
      "application/vnd.jupyter.widget-view+json": {
       "model_id": "d1ac77c9d4874630a73f22f9696b0ea0",
       "version_major": 2,
       "version_minor": 0
      },
      "text/plain": [
       "  0%|          | 0/15 [00:00<?, ?it/s]"
      ]
     },
     "metadata": {},
     "output_type": "display_data"
    },
    {
     "data": {
      "application/vnd.jupyter.widget-view+json": {
       "model_id": "f6cf3aca390649629904ca057133ac34",
       "version_major": 2,
       "version_minor": 0
      },
      "text/plain": [
       "  0%|          | 0/15 [00:00<?, ?it/s]"
      ]
     },
     "metadata": {},
     "output_type": "display_data"
    },
    {
     "data": {
      "application/vnd.jupyter.widget-view+json": {
       "model_id": "740f87cd3d6e439390528a45e87e6ef8",
       "version_major": 2,
       "version_minor": 0
      },
      "text/plain": [
       "  0%|          | 0/15 [00:00<?, ?it/s]"
      ]
     },
     "metadata": {},
     "output_type": "display_data"
    },
    {
     "data": {
      "application/vnd.jupyter.widget-view+json": {
       "model_id": "15f8fc2e38904b79ba2e60bc3c7bd0ba",
       "version_major": 2,
       "version_minor": 0
      },
      "text/plain": [
       "  0%|          | 0/15 [00:00<?, ?it/s]"
      ]
     },
     "metadata": {},
     "output_type": "display_data"
    },
    {
     "data": {
      "application/vnd.jupyter.widget-view+json": {
       "model_id": "06f81be5547d404092307a9df3c42c10",
       "version_major": 2,
       "version_minor": 0
      },
      "text/plain": [
       "  0%|          | 0/15 [00:00<?, ?it/s]"
      ]
     },
     "metadata": {},
     "output_type": "display_data"
    },
    {
     "data": {
      "application/vnd.jupyter.widget-view+json": {
       "model_id": "2200a1bae00c4222b5b64e30e9be61b1",
       "version_major": 2,
       "version_minor": 0
      },
      "text/plain": [
       "  0%|          | 0/15 [00:00<?, ?it/s]"
      ]
     },
     "metadata": {},
     "output_type": "display_data"
    },
    {
     "data": {
      "application/vnd.jupyter.widget-view+json": {
       "model_id": "0830d98719ee448cb1253eb55aaee439",
       "version_major": 2,
       "version_minor": 0
      },
      "text/plain": [
       "  0%|          | 0/15 [00:00<?, ?it/s]"
      ]
     },
     "metadata": {},
     "output_type": "display_data"
    },
    {
     "data": {
      "application/vnd.jupyter.widget-view+json": {
       "model_id": "52b78546c2c7453a9dfb0db272319098",
       "version_major": 2,
       "version_minor": 0
      },
      "text/plain": [
       "  0%|          | 0/15 [00:00<?, ?it/s]"
      ]
     },
     "metadata": {},
     "output_type": "display_data"
    },
    {
     "data": {
      "application/vnd.jupyter.widget-view+json": {
       "model_id": "167114113d154246a167d01dcf1ecec0",
       "version_major": 2,
       "version_minor": 0
      },
      "text/plain": [
       "  0%|          | 0/15 [00:00<?, ?it/s]"
      ]
     },
     "metadata": {},
     "output_type": "display_data"
    },
    {
     "data": {
      "application/vnd.jupyter.widget-view+json": {
       "model_id": "697f02edf1254fc3a0743e16a39f0e93",
       "version_major": 2,
       "version_minor": 0
      },
      "text/plain": [
       "  0%|          | 0/15 [00:00<?, ?it/s]"
      ]
     },
     "metadata": {},
     "output_type": "display_data"
    },
    {
     "data": {
      "application/vnd.jupyter.widget-view+json": {
       "model_id": "b9121bae19094bd2b3241cb5d5f60a5a",
       "version_major": 2,
       "version_minor": 0
      },
      "text/plain": [
       "  0%|          | 0/15 [00:00<?, ?it/s]"
      ]
     },
     "metadata": {},
     "output_type": "display_data"
    },
    {
     "data": {
      "application/vnd.jupyter.widget-view+json": {
       "model_id": "615a4a392f904e978acb62c3564b379a",
       "version_major": 2,
       "version_minor": 0
      },
      "text/plain": [
       "  0%|          | 0/15 [00:00<?, ?it/s]"
      ]
     },
     "metadata": {},
     "output_type": "display_data"
    },
    {
     "data": {
      "application/vnd.jupyter.widget-view+json": {
       "model_id": "6482fe9606354db9a0b2976e9296eea9",
       "version_major": 2,
       "version_minor": 0
      },
      "text/plain": [
       "  0%|          | 0/15 [00:00<?, ?it/s]"
      ]
     },
     "metadata": {},
     "output_type": "display_data"
    },
    {
     "data": {
      "application/vnd.jupyter.widget-view+json": {
       "model_id": "431d9e98c9354d08b19c47cd40ecd649",
       "version_major": 2,
       "version_minor": 0
      },
      "text/plain": [
       "  0%|          | 0/15 [00:00<?, ?it/s]"
      ]
     },
     "metadata": {},
     "output_type": "display_data"
    },
    {
     "data": {
      "application/vnd.jupyter.widget-view+json": {
       "model_id": "615a2aa2bc0f483fa557d85a628db1b7",
       "version_major": 2,
       "version_minor": 0
      },
      "text/plain": [
       "  0%|          | 0/15 [00:00<?, ?it/s]"
      ]
     },
     "metadata": {},
     "output_type": "display_data"
    },
    {
     "data": {
      "application/vnd.jupyter.widget-view+json": {
       "model_id": "4f9ab4b3dc7f4f0b927e83c76f21a497",
       "version_major": 2,
       "version_minor": 0
      },
      "text/plain": [
       "  0%|          | 0/15 [00:00<?, ?it/s]"
      ]
     },
     "metadata": {},
     "output_type": "display_data"
    },
    {
     "data": {
      "application/vnd.jupyter.widget-view+json": {
       "model_id": "0e8f306ce7b74c0da3a2dd24ca5228f9",
       "version_major": 2,
       "version_minor": 0
      },
      "text/plain": [
       "  0%|          | 0/15 [00:00<?, ?it/s]"
      ]
     },
     "metadata": {},
     "output_type": "display_data"
    },
    {
     "data": {
      "application/vnd.jupyter.widget-view+json": {
       "model_id": "38bd95a6ca2244a58260852e646eb84d",
       "version_major": 2,
       "version_minor": 0
      },
      "text/plain": [
       "  0%|          | 0/15 [00:00<?, ?it/s]"
      ]
     },
     "metadata": {},
     "output_type": "display_data"
    },
    {
     "data": {
      "application/vnd.jupyter.widget-view+json": {
       "model_id": "fe875b465dc3443d84f241aee090962f",
       "version_major": 2,
       "version_minor": 0
      },
      "text/plain": [
       "  0%|          | 0/15 [00:00<?, ?it/s]"
      ]
     },
     "metadata": {},
     "output_type": "display_data"
    },
    {
     "data": {
      "application/vnd.jupyter.widget-view+json": {
       "model_id": "0748a025983a4519b4f20fd934254f0a",
       "version_major": 2,
       "version_minor": 0
      },
      "text/plain": [
       "  0%|          | 0/15 [00:00<?, ?it/s]"
      ]
     },
     "metadata": {},
     "output_type": "display_data"
    },
    {
     "data": {
      "application/vnd.jupyter.widget-view+json": {
       "model_id": "a1ab8d32c7db438aa37404d24154b6c3",
       "version_major": 2,
       "version_minor": 0
      },
      "text/plain": [
       "  0%|          | 0/15 [00:00<?, ?it/s]"
      ]
     },
     "metadata": {},
     "output_type": "display_data"
    },
    {
     "data": {
      "application/vnd.jupyter.widget-view+json": {
       "model_id": "998adc5828b54e4aa64f0fbf4cc1538e",
       "version_major": 2,
       "version_minor": 0
      },
      "text/plain": [
       "  0%|          | 0/15 [00:00<?, ?it/s]"
      ]
     },
     "metadata": {},
     "output_type": "display_data"
    },
    {
     "data": {
      "application/vnd.jupyter.widget-view+json": {
       "model_id": "ebeac87f6f1b470e81999707c1e71e82",
       "version_major": 2,
       "version_minor": 0
      },
      "text/plain": [
       "  0%|          | 0/15 [00:00<?, ?it/s]"
      ]
     },
     "metadata": {},
     "output_type": "display_data"
    },
    {
     "data": {
      "application/vnd.jupyter.widget-view+json": {
       "model_id": "354b0cfac710450a90141be63aecd2a4",
       "version_major": 2,
       "version_minor": 0
      },
      "text/plain": [
       "  0%|          | 0/15 [00:00<?, ?it/s]"
      ]
     },
     "metadata": {},
     "output_type": "display_data"
    },
    {
     "data": {
      "application/vnd.jupyter.widget-view+json": {
       "model_id": "87b3dc6d7aef434a8416023bc399280f",
       "version_major": 2,
       "version_minor": 0
      },
      "text/plain": [
       "  0%|          | 0/15 [00:00<?, ?it/s]"
      ]
     },
     "metadata": {},
     "output_type": "display_data"
    },
    {
     "data": {
      "application/vnd.jupyter.widget-view+json": {
       "model_id": "55289bc959da482fa91e08d715a66d58",
       "version_major": 2,
       "version_minor": 0
      },
      "text/plain": [
       "  0%|          | 0/15 [00:00<?, ?it/s]"
      ]
     },
     "metadata": {},
     "output_type": "display_data"
    },
    {
     "data": {
      "application/vnd.jupyter.widget-view+json": {
       "model_id": "bd142bb0345542ae98e9edf0327bc5ff",
       "version_major": 2,
       "version_minor": 0
      },
      "text/plain": [
       "  0%|          | 0/15 [00:00<?, ?it/s]"
      ]
     },
     "metadata": {},
     "output_type": "display_data"
    },
    {
     "data": {
      "application/vnd.jupyter.widget-view+json": {
       "model_id": "28c8f9d16a6c42c38dad1d84b9181d99",
       "version_major": 2,
       "version_minor": 0
      },
      "text/plain": [
       "  0%|          | 0/15 [00:00<?, ?it/s]"
      ]
     },
     "metadata": {},
     "output_type": "display_data"
    },
    {
     "data": {
      "application/vnd.jupyter.widget-view+json": {
       "model_id": "a59a83dde3b54e8f96b3c8544feb3a51",
       "version_major": 2,
       "version_minor": 0
      },
      "text/plain": [
       "  0%|          | 0/15 [00:00<?, ?it/s]"
      ]
     },
     "metadata": {},
     "output_type": "display_data"
    },
    {
     "data": {
      "application/vnd.jupyter.widget-view+json": {
       "model_id": "291bde10ed274d6ebdd7e5c7859f8970",
       "version_major": 2,
       "version_minor": 0
      },
      "text/plain": [
       "  0%|          | 0/15 [00:00<?, ?it/s]"
      ]
     },
     "metadata": {},
     "output_type": "display_data"
    },
    {
     "data": {
      "application/vnd.jupyter.widget-view+json": {
       "model_id": "d197b7b6dd7247f288855de750b61ff1",
       "version_major": 2,
       "version_minor": 0
      },
      "text/plain": [
       "  0%|          | 0/15 [00:00<?, ?it/s]"
      ]
     },
     "metadata": {},
     "output_type": "display_data"
    },
    {
     "data": {
      "application/vnd.jupyter.widget-view+json": {
       "model_id": "d373998177984ddbb5153ae28b18b6db",
       "version_major": 2,
       "version_minor": 0
      },
      "text/plain": [
       "  0%|          | 0/15 [00:00<?, ?it/s]"
      ]
     },
     "metadata": {},
     "output_type": "display_data"
    },
    {
     "data": {
      "application/vnd.jupyter.widget-view+json": {
       "model_id": "4a058b0512564c0eadf25dbd73d214c8",
       "version_major": 2,
       "version_minor": 0
      },
      "text/plain": [
       "  0%|          | 0/15 [00:00<?, ?it/s]"
      ]
     },
     "metadata": {},
     "output_type": "display_data"
    },
    {
     "data": {
      "application/vnd.jupyter.widget-view+json": {
       "model_id": "caa3b1d88cb743b7af16cd57cd432778",
       "version_major": 2,
       "version_minor": 0
      },
      "text/plain": [
       "  0%|          | 0/15 [00:00<?, ?it/s]"
      ]
     },
     "metadata": {},
     "output_type": "display_data"
    },
    {
     "data": {
      "application/vnd.jupyter.widget-view+json": {
       "model_id": "939df24d2c744e62afa87a8e8b554948",
       "version_major": 2,
       "version_minor": 0
      },
      "text/plain": [
       "  0%|          | 0/15 [00:00<?, ?it/s]"
      ]
     },
     "metadata": {},
     "output_type": "display_data"
    },
    {
     "data": {
      "application/vnd.jupyter.widget-view+json": {
       "model_id": "9815e87b5d404bd898aa983e20c80cb2",
       "version_major": 2,
       "version_minor": 0
      },
      "text/plain": [
       "  0%|          | 0/15 [00:00<?, ?it/s]"
      ]
     },
     "metadata": {},
     "output_type": "display_data"
    },
    {
     "data": {
      "application/vnd.jupyter.widget-view+json": {
       "model_id": "3b94b25ee0ef466e9cb8e2ecfae5e4b5",
       "version_major": 2,
       "version_minor": 0
      },
      "text/plain": [
       "  0%|          | 0/15 [00:00<?, ?it/s]"
      ]
     },
     "metadata": {},
     "output_type": "display_data"
    },
    {
     "data": {
      "application/vnd.jupyter.widget-view+json": {
       "model_id": "7821fc9da8a145c58e86dddfea664236",
       "version_major": 2,
       "version_minor": 0
      },
      "text/plain": [
       "  0%|          | 0/15 [00:00<?, ?it/s]"
      ]
     },
     "metadata": {},
     "output_type": "display_data"
    },
    {
     "data": {
      "application/vnd.jupyter.widget-view+json": {
       "model_id": "965095254da640d5b520e467767bc785",
       "version_major": 2,
       "version_minor": 0
      },
      "text/plain": [
       "  0%|          | 0/15 [00:00<?, ?it/s]"
      ]
     },
     "metadata": {},
     "output_type": "display_data"
    },
    {
     "data": {
      "application/vnd.jupyter.widget-view+json": {
       "model_id": "7103b4b0bad0477da86f180a8b307033",
       "version_major": 2,
       "version_minor": 0
      },
      "text/plain": [
       "  0%|          | 0/15 [00:00<?, ?it/s]"
      ]
     },
     "metadata": {},
     "output_type": "display_data"
    },
    {
     "data": {
      "application/vnd.jupyter.widget-view+json": {
       "model_id": "1b5eb2e3bbee4a278f1675e2c0c11de2",
       "version_major": 2,
       "version_minor": 0
      },
      "text/plain": [
       "  0%|          | 0/15 [00:00<?, ?it/s]"
      ]
     },
     "metadata": {},
     "output_type": "display_data"
    },
    {
     "data": {
      "application/vnd.jupyter.widget-view+json": {
       "model_id": "164642ba5dfd4b4f912018db4f5f78d5",
       "version_major": 2,
       "version_minor": 0
      },
      "text/plain": [
       "  0%|          | 0/15 [00:00<?, ?it/s]"
      ]
     },
     "metadata": {},
     "output_type": "display_data"
    },
    {
     "data": {
      "application/vnd.jupyter.widget-view+json": {
       "model_id": "e2206410439742648945f3d2b86c9246",
       "version_major": 2,
       "version_minor": 0
      },
      "text/plain": [
       "  0%|          | 0/15 [00:00<?, ?it/s]"
      ]
     },
     "metadata": {},
     "output_type": "display_data"
    },
    {
     "data": {
      "application/vnd.jupyter.widget-view+json": {
       "model_id": "eb6bc3fb38554fd5983bf54713b8873b",
       "version_major": 2,
       "version_minor": 0
      },
      "text/plain": [
       "  0%|          | 0/15 [00:00<?, ?it/s]"
      ]
     },
     "metadata": {},
     "output_type": "display_data"
    },
    {
     "data": {
      "application/vnd.jupyter.widget-view+json": {
       "model_id": "5eac46b97a704dd7949ec58cf4b6cf9f",
       "version_major": 2,
       "version_minor": 0
      },
      "text/plain": [
       "  0%|          | 0/15 [00:00<?, ?it/s]"
      ]
     },
     "metadata": {},
     "output_type": "display_data"
    },
    {
     "data": {
      "application/vnd.jupyter.widget-view+json": {
       "model_id": "f0478be0ad9b47db892b131103096ad4",
       "version_major": 2,
       "version_minor": 0
      },
      "text/plain": [
       "  0%|          | 0/15 [00:00<?, ?it/s]"
      ]
     },
     "metadata": {},
     "output_type": "display_data"
    },
    {
     "data": {
      "application/vnd.jupyter.widget-view+json": {
       "model_id": "6a867e3ea2a449c7826d5f171a29d72b",
       "version_major": 2,
       "version_minor": 0
      },
      "text/plain": [
       "  0%|          | 0/15 [00:00<?, ?it/s]"
      ]
     },
     "metadata": {},
     "output_type": "display_data"
    },
    {
     "data": {
      "application/vnd.jupyter.widget-view+json": {
       "model_id": "dc0fffa21e754ab7a83ec71bbffc6dcd",
       "version_major": 2,
       "version_minor": 0
      },
      "text/plain": [
       "  0%|          | 0/15 [00:00<?, ?it/s]"
      ]
     },
     "metadata": {},
     "output_type": "display_data"
    },
    {
     "data": {
      "application/vnd.jupyter.widget-view+json": {
       "model_id": "8c6257498333456289f45f6396930175",
       "version_major": 2,
       "version_minor": 0
      },
      "text/plain": [
       "  0%|          | 0/15 [00:00<?, ?it/s]"
      ]
     },
     "metadata": {},
     "output_type": "display_data"
    },
    {
     "data": {
      "application/vnd.jupyter.widget-view+json": {
       "model_id": "98eefeabb44043b78dfb7197ee0496f5",
       "version_major": 2,
       "version_minor": 0
      },
      "text/plain": [
       "  0%|          | 0/15 [00:00<?, ?it/s]"
      ]
     },
     "metadata": {},
     "output_type": "display_data"
    }
   ],
   "source": [
    "from tqdm.notebook import trange, tqdm\n",
    "\n",
    "epochs = 100\n",
    "optimizer = torch.optim.Adam(lr=1e-4, params=model.parameters())\n",
    "hkr_loss = torchlip.HKRMulticlassLoss(alpha=100, min_margin=0.25)\n",
    "\n",
    "tepochs = trange(epochs)\n",
    "for _ in tepochs:\n",
    "    m_kr, m_acc = 0, 0\n",
    "\n",
    "    tsteps = tqdm(train_loader)\n",
    "\n",
    "    for step, (data, target) in enumerate(tsteps):\n",
    "        # For multiclass HKR loss, the targets must be one-hot encoded\n",
    "        target = torch.nn.functional.one_hot(target, num_classes=10)\n",
    "        data, target = data.to(device), target.to(device)\n",
    "\n",
    "        # Forward + backward pass\n",
    "        optimizer.zero_grad()\n",
    "        output = model(data)\n",
    "        loss = hkr_loss(output, target)\n",
    "        loss.backward()\n",
    "        optimizer.step()\n",
    "\n",
    "        # Compute metrics on batch\n",
    "        m_kr += torchlip.functional.kr_multiclass_loss(output, target)\n",
    "        m_acc += (output.argmax(dim=1) == target.argmax(dim=1)).sum() / len(target)\n",
    "\n",
    "        # Print metrics of current batch\n",
    "        tsteps.set_postfix(\n",
    "            {\n",
    "                k: \"{:.04f}\".format(v)\n",
    "                for k, v in {\n",
    "                    \"loss\": loss,\n",
    "                    \"kr\": m_kr / (step + 1),\n",
    "                    \"acc\": m_acc / (step + 1),\n",
    "                }.items()\n",
    "            }\n",
    "        )\n",
    "\n",
    "    # Compute test loss for the current epoch\n",
    "    test_output, test_targets = [], []\n",
    "    for data, target in test_loader:\n",
    "        data, target = data.to(device), target.to(device)\n",
    "        test_output.append(model(data).detach().cpu())\n",
    "        test_targets.append(\n",
    "            torch.nn.functional.one_hot(target, num_classes=10).detach().cpu()\n",
    "        )\n",
    "    test_output = torch.cat(test_output)\n",
    "    test_targets = torch.cat(test_targets)\n",
    "\n",
    "    # Print metrics for the current epoch\n",
    "    postfix_end_epoch = {\n",
    "        f\"train_{k}\": f\"{v:.04f}\"\n",
    "        for k, v in {\n",
    "            \"loss\": loss,\n",
    "            \"kr\": m_kr / len(train_loader),\n",
    "            \"acc\": m_acc / len(train_loader),\n",
    "        }.items()\n",
    "    }\n",
    "    postfix_end_epoch.update(\n",
    "        {\n",
    "            f\"val_{k}\": f\"{v:.04f}\"\n",
    "            for k, v in {\n",
    "                \"loss\": hkr_loss(test_output, test_targets),\n",
    "                \"kr\": torchlip.functional.kr_multiclass_loss(test_output, test_targets),\n",
    "                \"acc\": (test_output.argmax(dim=1) == test_targets.argmax(dim=1))\n",
    "                .float()\n",
    "                .mean(),\n",
    "            }.items()\n",
    "        }\n",
    "    )\n",
    "    tepochs.set_postfix(postfix_end_epoch)\n"
   ]
  },
  {
   "cell_type": "markdown",
   "metadata": {},
   "source": [
    "## 4. Model export\n",
    "\n",
    "Once training is finished, the model can be optimized for inference by using the\n",
    "`vanilla_export()` method. The `torchlip` layers are converted to their PyTorch\n",
    "counterparts, e.g. `SpectralConv2d` layers will be converted into `torch.nn.Conv2d`\n",
    "layers.\n"
   ]
  },
  {
   "cell_type": "code",
   "execution_count": 4,
   "metadata": {},
   "outputs": [
    {
     "data": {
      "text/plain": [
       "Sequential(\n",
       "  (0): Conv2d(1, 16, kernel_size=(3, 3), stride=(1, 1), padding=same)\n",
       "  (1): GroupSort2()\n",
       "  (2): ScaledL2NormPool2d(kernel_size=(2, 2), stride=(2, 2), padding=0)\n",
       "  (3): Conv2d(16, 32, kernel_size=(3, 3), stride=(1, 1), padding=same)\n",
       "  (4): GroupSort2()\n",
       "  (5): ScaledL2NormPool2d(kernel_size=(2, 2), stride=(2, 2), padding=0)\n",
       "  (6): Flatten(start_dim=1, end_dim=-1)\n",
       "  (7): Linear(in_features=1568, out_features=64, bias=True)\n",
       "  (8): GroupSort2()\n",
       "  (9): Linear(in_features=64, out_features=10, bias=False)\n",
       ")"
      ]
     },
     "execution_count": 4,
     "metadata": {},
     "output_type": "execute_result"
    }
   ],
   "source": [
    "vanilla_model = model.vanilla_export()\n",
    "vanilla_model.eval()\n",
    "vanilla_model.to(device)\n"
   ]
  },
  {
   "cell_type": "markdown",
   "metadata": {},
   "source": [
    "## 5. Robustness evaluation: certificate generation and adversarial attacks\n",
    "\n",
    "A Lipschitz network provides certificates guaranteeing that there is no adversarial\n",
    "attack smaller than the certificates. We will show how to compute a certificate for a\n",
    "given image sample.\n",
    "\n",
    "We will also run attacks on 10 images (one per class) and show that the distance between\n",
    "the obtained adversarial images and the original images is greater than the\n",
    "certificates. The `foolbox` library is used to perform adversarial attacks.\n"
   ]
  },
  {
   "cell_type": "code",
   "execution_count": 5,
   "metadata": {},
   "outputs": [],
   "source": [
    "import numpy as np\n",
    "\n",
    "# Select only the first batch from the test set\n",
    "sub_data, sub_targets = iter(test_loader).next()\n",
    "sub_data, sub_targets = sub_data.to(device), sub_targets.to(device)\n",
    "\n",
    "# Drop misclassified elements\n",
    "output = vanilla_model(sub_data)\n",
    "well_classified_mask = output.argmax(dim=-1) == sub_targets\n",
    "sub_data = sub_data[well_classified_mask]\n",
    "sub_targets = sub_targets[well_classified_mask]\n",
    "\n",
    "# Retrieve one image per class\n",
    "images_list, targets_list = [], []\n",
    "for i in range(10):\n",
    "    # Select the elements of the i-th label and keep the first one\n",
    "    label_mask = sub_targets == i\n",
    "    x = sub_data[label_mask][0]\n",
    "    y = sub_targets[label_mask][0]\n",
    "\n",
    "    images_list.append(x)\n",
    "    targets_list.append(y)\n",
    "\n",
    "images = torch.stack(images_list)\n",
    "targets = torch.stack(targets_list)\n"
   ]
  },
  {
   "cell_type": "markdown",
   "metadata": {},
   "source": [
    "In order to build a certificate $\\mathcal{M}$ for a given sample, we take the top-2\n",
    "output and apply the following formula:\n",
    "\n",
    "$$ \\mathcal{M} = \\frac{\\text{top}_1 - \\text{top}_2}{\\sqrt{2}} $$\n",
    "\n",
    "This certificate is a guarantee that no L2 attack can defeat the given image sample with\n",
    "a robustness radius $\\epsilon$ lower than the certificate, i.e.\n",
    "\n",
    "$$ \\epsilon \\geq \\mathcal{M} $$\n",
    "\n",
    "In the following cell, we attack the model on the ten selected images and compare the\n",
    "obtained radius $\\epsilon$ with the certificates $\\mathcal{M}$. In this setup,\n",
    "`L2CarliniWagnerAttack` from `foolbox` is used but in practice as these kind of networks\n",
    "are gradient norm preserving, other attacks gives very similar results.\n"
   ]
  },
  {
   "cell_type": "code",
   "execution_count": 6,
   "metadata": {},
   "outputs": [
    {
     "name": "stdout",
     "output_type": "stream",
     "text": [
      "Image #     Certificate     Distance to adversarial\n",
      "---------------------------------------------------\n",
      "Image 0        0.247                1.82\n",
      "Image 1        0.713                3.49\n",
      "Image 2        0.213                1.74\n",
      "Image 3        0.581                2.56\n",
      "Image 4        0.030                0.20\n",
      "Image 5        0.092                0.74\n",
      "Image 6        0.100                0.92\n",
      "Image 7        0.262                1.41\n",
      "Image 8        0.331                1.41\n",
      "Image 9        0.045                0.36\n"
     ]
    }
   ],
   "source": [
    "import foolbox as fb\n",
    "\n",
    "# Compute certificates\n",
    "values, _ = vanilla_model(images).topk(k=2)\n",
    "certificates = (values[:, 0] - values[:, 1]) / np.sqrt(2)\n",
    "\n",
    "# Run Carlini & Wagner attack\n",
    "fmodel = fb.PyTorchModel(vanilla_model, bounds=(0.0, 1.0), device=device)\n",
    "attack = fb.attacks.L2CarliniWagnerAttack(binary_search_steps=6, steps=8000)\n",
    "_, advs, success = attack(fmodel, images, targets, epsilons=None)\n",
    "dist_to_adv = (images - advs).square().sum(dim=(1, 2, 3)).sqrt()\n",
    "\n",
    "# Print results\n",
    "print(\"Image #     Certificate     Distance to adversarial\")\n",
    "print(\"---------------------------------------------------\")\n",
    "for i in range(len(certificates)):\n",
    "    print(f\"Image {i}        {certificates[i]:.3f}                {dist_to_adv[i]:.2f}\")\n"
   ]
  },
  {
   "cell_type": "markdown",
   "metadata": {},
   "source": [
    "Finally, we can take a visual look at the obtained images. When looking at the\n",
    "adversarial examples, we can see that the network has interesting properties:\n",
    "\n",
    "- **Predictability**: by looking at the certificates, we can predict if the adversarial\n",
    "  example will be close or not to the original image.\n",
    "- **Disparity among classes**: as we can see, the attacks are very efficent on similar\n",
    "  classes (e.g. T-shirt/top, and Shirt). This denotes that all classes are not made\n",
    "  equal regarding robustness.\n",
    "- **Explainability**: the network is more explainable as attacks can be used as\n",
    "  counterfactuals. We can tell that removing the inscription on a T-shirt turns it into\n",
    "  a shirt makes sense. Non-robust examples reveal that the network relies on textures\n",
    "  rather on shapes to make its decision.\n"
   ]
  },
  {
   "cell_type": "code",
   "execution_count": 7,
   "metadata": {},
   "outputs": [
    {
     "data": {
      "image/png": "[encoded data removed]",
      "text/plain": [
       "<Figure size 324x1080 with 30 Axes>"
      ]
     },
     "metadata": {},
     "output_type": "display_data"
    }
   ],
   "source": [
    "import matplotlib.pyplot as plt\n",
    "\n",
    "def adversarial_viz(model, images, advs, class_names):\n",
    "    \"\"\"\n",
    "    This functions shows for each image sample:\n",
    "    - the original image\n",
    "    - the adversarial image\n",
    "    - the difference map\n",
    "    - the certificate and the observed distance to adversarial\n",
    "    \"\"\"\n",
    "    scale = 1.5\n",
    "    nb_imgs = images.shape[0]\n",
    "\n",
    "    # Compute certificates\n",
    "    values, _ = model(images).topk(k=2)\n",
    "    certificates = (values[:, 0] - values[:, 1]) / np.sqrt(2)\n",
    "\n",
    "    # Compute distance between image and its adversarial\n",
    "    dist_to_adv = (images - advs).square().sum(dim=(1, 2, 3)).sqrt()\n",
    "\n",
    "    # Find predicted classes for images and their adversarials\n",
    "    orig_classes = [class_names[i] for i in model(images).argmax(dim=-1)]\n",
    "    advs_classes = [class_names[i] for i in model(advs).argmax(dim=-1)]\n",
    "\n",
    "    # Compute difference maps\n",
    "    advs = advs.detach().cpu()\n",
    "    images = images.detach().cpu()\n",
    "    diff_pos = np.clip(advs - images, 0, 1.0)\n",
    "    diff_neg = np.clip(images - advs, 0, 1.0)\n",
    "    diff_map = np.concatenate(\n",
    "        [diff_neg, diff_pos, np.zeros_like(diff_neg)], axis=1\n",
    "    ).transpose((0, 2, 3, 1))\n",
    "\n",
    "    # Create plot\n",
    "    def _set_ax(ax, title):\n",
    "        ax.set_title(title)\n",
    "        ax.set_xticks([])\n",
    "        ax.set_yticks([])\n",
    "        ax.axis(\"off\")\n",
    "\n",
    "    figsize = (3 * scale, nb_imgs * scale)\n",
    "    _, axes = plt.subplots(\n",
    "        ncols=3, nrows=nb_imgs, figsize=figsize, squeeze=False, constrained_layout=True\n",
    "    )\n",
    "    for i in range(nb_imgs):\n",
    "        _set_ax(axes[i][0], orig_classes[i])\n",
    "        axes[i][0].imshow(images[i].squeeze(), cmap=\"gray\")\n",
    "        _set_ax(axes[i][1], advs_classes[i])\n",
    "        axes[i][1].imshow(advs[i].squeeze(), cmap=\"gray\")\n",
    "        _set_ax(axes[i][2], f\"certif: {certificates[i]:.2f}, obs: {dist_to_adv[i]:.2f}\")\n",
    "        axes[i][2].imshow(diff_map[i] / diff_map[i].max())\n",
    "\n",
    "\n",
    "adversarial_viz(vanilla_model, images, advs, test_set.classes)\n"
   ]
  }
 ],
 "metadata": {
  "kernelspec": {
   "display_name": "Python 3",
   "language": "python",
   "name": "python3"
  },
  "language_info": {
   "codemirror_mode": {
    "name": "ipython",
    "version": 3
   },
   "file_extension": ".py",
   "mimetype": "text/x-python",
   "name": "python",
   "nbconvert_exporter": "python",
   "pygments_lexer": "ipython3",
   "version": "3.7.7"
  }
 },
 "nbformat": 4,
 "nbformat_minor": 4
}
