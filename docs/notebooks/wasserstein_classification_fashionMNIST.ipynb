{
 "cells": [
  {
   "cell_type": "markdown",
   "metadata": {},
   "source": [
    "# Example 4: HKR multiclass and fooling\n",
    "\n",
    "This notebook will show how to train a Lispchitz network in a multiclass configuration.\n",
    "The HKR (hinge-Kantorovich-Rubinstein) loss is extended to multiclass using a one-vs all\n",
    "setup. The notebook will go through the process of designing and training the network.\n",
    "It will also show how to compute robustness certificates from the outputs of the\n",
    "network. Finally the guarantee of these certificates will be checked by attacking the\n",
    "network.\n"
   ]
  },
  {
   "cell_type": "markdown",
   "metadata": {},
   "source": [
    "## 1. Data preparation\n",
    "\n",
    "For this example, the `fashion_mnist` dataset is used. In order to keep things simple,\n",
    "no data augmentation is performed.\n"
   ]
  },
  {
   "cell_type": "code",
   "execution_count": 1,
   "metadata": {},
   "outputs": [],
   "source": [
    "import torch\n",
    "from torchvision import datasets, transforms\n",
    "\n",
    "train_set = datasets.FashionMNIST(\n",
    "    root=\"./data\",\n",
    "    download=True,\n",
    "    train=True,\n",
    "    transform=transforms.ToTensor(),\n",
    ")\n",
    "\n",
    "test_set = datasets.FashionMNIST(\n",
    "    root=\"./data\",\n",
    "    download=True,\n",
    "    train=False,\n",
    "    transform=transforms.ToTensor(),\n",
    ")\n",
    "\n",
    "batch_size = 4096\n",
    "train_loader = torch.utils.data.DataLoader(train_set, batch_size, shuffle=True)\n",
    "test_loader = torch.utils.data.DataLoader(test_set, batch_size)\n"
   ]
  },
  {
   "cell_type": "markdown",
   "metadata": {},
   "source": [
    "## 2. Model architecture\n",
    "\n",
    "The original one-vs-all setup would require 10 different networks (1 per class).\n",
    "However, we use in practice a network with a common body and a Lipschitz head (linear\n",
    "layer) containing 10 output neurons, like any standard network for multiclass\n",
    "classification. Note that each head neuron is not a 1-Lipschitz function; however the\n",
    "overall head with the 10 outputs is 1-Lipschitz.\n",
    "\n",
    "#### Notes about constraint enforcement\n",
    "\n",
    "There are currently 3 ways to enforce the Lipschitz constraint in a network:\n",
    "\n",
    "1. weight regularization\n",
    "2. weight reparametrization\n",
    "3. weight projection\n",
    "\n",
    "Weight regularization doesn’t provide the required guarantees as it is only a\n",
    "regularization term. Weight reparametrization is available in `torchlip` and is done\n",
    "directly in the layers (parameter `niter_bjorck`). This trick allows to perform\n",
    "arbitrary gradient updates without breaking the constraint. However this is done in the\n",
    "graph, increasing resources consumption. Weight projection is not implemented in\n",
    "`torchlip`.\n"
   ]
  },
  {
   "cell_type": "code",
   "execution_count": 2,
   "metadata": {},
   "outputs": [
    {
     "name": "stderr",
     "output_type": "stream",
     "text": [
      "Sequential model contains a layer which is not a Lipschitz layer: Flatten(start_dim=1, end_dim=-1)\n"
     ]
    },
    {
     "data": {
      "text/plain": [
       "Sequential(\n",
       "  (0): SpectralConv2d(1, 16, kernel_size=(3, 3), stride=(1, 1), padding=same)\n",
       "  (1): GroupSort2()\n",
       "  (2): ScaledL2NormPool2d(kernel_size=(2, 2), stride=(2, 2), padding=0)\n",
       "  (3): SpectralConv2d(16, 32, kernel_size=(3, 3), stride=(1, 1), padding=same)\n",
       "  (4): GroupSort2()\n",
       "  (5): ScaledL2NormPool2d(kernel_size=(2, 2), stride=(2, 2), padding=0)\n",
       "  (6): Flatten(start_dim=1, end_dim=-1)\n",
       "  (7): SpectralLinear(in_features=1568, out_features=64, bias=True)\n",
       "  (8): GroupSort2()\n",
       "  (9): SpectralLinear(in_features=64, out_features=10, bias=False)\n",
       ")"
      ]
     },
     "execution_count": 2,
     "metadata": {},
     "output_type": "execute_result"
    }
   ],
   "source": [
    "from deel import torchlip\n",
    "\n",
    "# Sequential has the same properties as any Lipschitz layer. It only acts as a\n",
    "# container, with features specific to Lipschitz functions (condensation,\n",
    "# vanilla_exportation, ...)\n",
    "model = torchlip.Sequential(\n",
    "    # Lipschitz layers preserve the API of their superclass (here Conv2d). An optional\n",
    "    # argument is available, k_coef_lip, which controls the Lipschitz constant of the\n",
    "    # layer\n",
    "    torchlip.SpectralConv2d(\n",
    "        in_channels=1, out_channels=16, kernel_size=(3, 3), padding=\"same\"\n",
    "    ),\n",
    "    torchlip.GroupSort2(),\n",
    "    # Usual pooling layer are implemented (avg, max), but new pooling layers are also\n",
    "    # available\n",
    "    torchlip.ScaledL2NormPool2d(kernel_size=(2, 2)),\n",
    "    torchlip.SpectralConv2d(\n",
    "        in_channels=16, out_channels=32, kernel_size=(3, 3), padding=\"same\"\n",
    "    ),\n",
    "    torchlip.GroupSort2(),\n",
    "    torchlip.ScaledL2NormPool2d(kernel_size=(2, 2)),\n",
    "    # Our layers are fully interoperable with existing PyTorch layers\n",
    "    torch.nn.Flatten(),\n",
    "    torchlip.SpectralLinear(1568, 64),\n",
    "    torchlip.GroupSort2(),\n",
    "    torchlip.SpectralLinear(64, 10, bias=False),\n",
    "    # Similarly, model has a parameter to set the Lipschitz constant that automatically\n",
    "    # sets the constant of each layer.\n",
    "    k_coef_lip=1.0,\n",
    ")\n",
    "\n",
    "device = torch.device(\"cuda\" if torch.cuda.is_available() else \"cpu\")\n",
    "model.to(device)\n"
   ]
  },
  {
   "cell_type": "markdown",
   "metadata": {},
   "source": [
    "## 3. HKR loss and training\n",
    "\n",
    "The multiclass HKR loss can be found in the `hkr_multiclass_loss` function or in the\n",
    "`HKRMulticlassLoss` class. The loss has two parameters: `alpha` and `min_margin`.\n",
    "Decreasing `alpha` and increasing `min_margin` improve robustness (at the cost of\n",
    "accuracy). Note also in the case of Lipschitz networks, more robustness requires more\n",
    "parameters. For more information, see [our paper](https://arxiv.org/abs/2006.06520).\n",
    "\n",
    "In this setup, choosing `alpha=100` and `min_margin=.25` provides good robustness\n",
    "without hurting the accuracy too much.\n",
    "\n",
    "Finally the `kr_multiclass_loss` gives an indication on the robustness of the network\n",
    "(proxy of the average certificate).\n"
   ]
  },
  {
   "cell_type": "code",
   "execution_count": 3,
   "metadata": {},
   "outputs": [
    {
     "data": {
      "application/vnd.jupyter.widget-view+json": {
       "model_id": "344fa4bfb18540ef92e5902166f7add0",
       "version_major": 2,
       "version_minor": 0
      },
      "text/plain": [
       "  0%|          | 0/100 [00:00<?, ?it/s]"
      ]
     },
     "metadata": {},
     "output_type": "display_data"
    },
    {
     "data": {
      "application/vnd.jupyter.widget-view+json": {
       "model_id": "e4a9cf1b4f1c4eb6b570939c3c58ca43",
       "version_major": 2,
       "version_minor": 0
      },
      "text/plain": [
       "  0%|          | 0/15 [00:00<?, ?it/s]"
      ]
     },
     "metadata": {},
     "output_type": "display_data"
    },
    {
     "data": {
      "application/vnd.jupyter.widget-view+json": {
       "model_id": "eeb7b1cecc5640218cbc025a5752961a",
       "version_major": 2,
       "version_minor": 0
      },
      "text/plain": [
       "  0%|          | 0/15 [00:00<?, ?it/s]"
      ]
     },
     "metadata": {},
     "output_type": "display_data"
    },
    {
     "data": {
      "application/vnd.jupyter.widget-view+json": {
       "model_id": "0d1795b731514f42b64a989dd6e30d38",
       "version_major": 2,
       "version_minor": 0
      },
      "text/plain": [
       "  0%|          | 0/15 [00:00<?, ?it/s]"
      ]
     },
     "metadata": {},
     "output_type": "display_data"
    },
    {
     "data": {
      "application/vnd.jupyter.widget-view+json": {
       "model_id": "4d566f0b9b094992b42527c8a21a2739",
       "version_major": 2,
       "version_minor": 0
      },
      "text/plain": [
       "  0%|          | 0/15 [00:00<?, ?it/s]"
      ]
     },
     "metadata": {},
     "output_type": "display_data"
    },
    {
     "data": {
      "application/vnd.jupyter.widget-view+json": {
       "model_id": "2be3007130104c8e8e868c29e58e7b40",
       "version_major": 2,
       "version_minor": 0
      },
      "text/plain": [
       "  0%|          | 0/15 [00:00<?, ?it/s]"
      ]
     },
     "metadata": {},
     "output_type": "display_data"
    },
    {
     "data": {
      "application/vnd.jupyter.widget-view+json": {
       "model_id": "0c6cd166616d466ab417b5219f72107a",
       "version_major": 2,
       "version_minor": 0
      },
      "text/plain": [
       "  0%|          | 0/15 [00:00<?, ?it/s]"
      ]
     },
     "metadata": {},
     "output_type": "display_data"
    },
    {
     "data": {
      "application/vnd.jupyter.widget-view+json": {
       "model_id": "8c2e1ab369f645bb9a525ba7e6d0b65e",
       "version_major": 2,
       "version_minor": 0
      },
      "text/plain": [
       "  0%|          | 0/15 [00:00<?, ?it/s]"
      ]
     },
     "metadata": {},
     "output_type": "display_data"
    },
    {
     "data": {
      "application/vnd.jupyter.widget-view+json": {
       "model_id": "66adbd24f56e4c88aaf175b9e5d87b2a",
       "version_major": 2,
       "version_minor": 0
      },
      "text/plain": [
       "  0%|          | 0/15 [00:00<?, ?it/s]"
      ]
     },
     "metadata": {},
     "output_type": "display_data"
    },
    {
     "data": {
      "application/vnd.jupyter.widget-view+json": {
       "model_id": "594c0dadf0504c9dadf87724c6c466b8",
       "version_major": 2,
       "version_minor": 0
      },
      "text/plain": [
       "  0%|          | 0/15 [00:00<?, ?it/s]"
      ]
     },
     "metadata": {},
     "output_type": "display_data"
    },
    {
     "data": {
      "application/vnd.jupyter.widget-view+json": {
       "model_id": "b96c28ca443643bea22e5ae0517fd7f8",
       "version_major": 2,
       "version_minor": 0
      },
      "text/plain": [
       "  0%|          | 0/15 [00:00<?, ?it/s]"
      ]
     },
     "metadata": {},
     "output_type": "display_data"
    },
    {
     "data": {
      "application/vnd.jupyter.widget-view+json": {
       "model_id": "a5f3b584e25a4ce4974e3fc52221c290",
       "version_major": 2,
       "version_minor": 0
      },
      "text/plain": [
       "  0%|          | 0/15 [00:00<?, ?it/s]"
      ]
     },
     "metadata": {},
     "output_type": "display_data"
    },
    {
     "data": {
      "application/vnd.jupyter.widget-view+json": {
       "model_id": "081e2e4d25184370a8cb63fea4ae7030",
       "version_major": 2,
       "version_minor": 0
      },
      "text/plain": [
       "  0%|          | 0/15 [00:00<?, ?it/s]"
      ]
     },
     "metadata": {},
     "output_type": "display_data"
    },
    {
     "data": {
      "application/vnd.jupyter.widget-view+json": {
       "model_id": "5ff0a3e04eb94466bb56c256be4b32c2",
       "version_major": 2,
       "version_minor": 0
      },
      "text/plain": [
       "  0%|          | 0/15 [00:00<?, ?it/s]"
      ]
     },
     "metadata": {},
     "output_type": "display_data"
    },
    {
     "data": {
      "application/vnd.jupyter.widget-view+json": {
       "model_id": "44b6be6c4f604c42ba0296e517675a1b",
       "version_major": 2,
       "version_minor": 0
      },
      "text/plain": [
       "  0%|          | 0/15 [00:00<?, ?it/s]"
      ]
     },
     "metadata": {},
     "output_type": "display_data"
    },
    {
     "data": {
      "application/vnd.jupyter.widget-view+json": {
       "model_id": "9800cd9269034c2b8e7d5a985479bdea",
       "version_major": 2,
       "version_minor": 0
      },
      "text/plain": [
       "  0%|          | 0/15 [00:00<?, ?it/s]"
      ]
     },
     "metadata": {},
     "output_type": "display_data"
    },
    {
     "data": {
      "application/vnd.jupyter.widget-view+json": {
       "model_id": "19b0b043147c43a1bfde05804a36a8b3",
       "version_major": 2,
       "version_minor": 0
      },
      "text/plain": [
       "  0%|          | 0/15 [00:00<?, ?it/s]"
      ]
     },
     "metadata": {},
     "output_type": "display_data"
    },
    {
     "data": {
      "application/vnd.jupyter.widget-view+json": {
       "model_id": "1fdc36e08f9f42319452b0816f5c4318",
       "version_major": 2,
       "version_minor": 0
      },
      "text/plain": [
       "  0%|          | 0/15 [00:00<?, ?it/s]"
      ]
     },
     "metadata": {},
     "output_type": "display_data"
    },
    {
     "data": {
      "application/vnd.jupyter.widget-view+json": {
       "model_id": "ad9108cd42524b9c9330592d74cbd74e",
       "version_major": 2,
       "version_minor": 0
      },
      "text/plain": [
       "  0%|          | 0/15 [00:00<?, ?it/s]"
      ]
     },
     "metadata": {},
     "output_type": "display_data"
    },
    {
     "data": {
      "application/vnd.jupyter.widget-view+json": {
       "model_id": "89a9e1c2d0b747bda9c05ccd43b0e7c5",
       "version_major": 2,
       "version_minor": 0
      },
      "text/plain": [
       "  0%|          | 0/15 [00:00<?, ?it/s]"
      ]
     },
     "metadata": {},
     "output_type": "display_data"
    },
    {
     "data": {
      "application/vnd.jupyter.widget-view+json": {
       "model_id": "f02b732f4b894bd1a659d1b004b1b086",
       "version_major": 2,
       "version_minor": 0
      },
      "text/plain": [
       "  0%|          | 0/15 [00:00<?, ?it/s]"
      ]
     },
     "metadata": {},
     "output_type": "display_data"
    },
    {
     "data": {
      "application/vnd.jupyter.widget-view+json": {
       "model_id": "0817696c728f4f009ef7efbbde828097",
       "version_major": 2,
       "version_minor": 0
      },
      "text/plain": [
       "  0%|          | 0/15 [00:00<?, ?it/s]"
      ]
     },
     "metadata": {},
     "output_type": "display_data"
    },
    {
     "data": {
      "application/vnd.jupyter.widget-view+json": {
       "model_id": "dc8d3d83796a44d6a13896684845cbfb",
       "version_major": 2,
       "version_minor": 0
      },
      "text/plain": [
       "  0%|          | 0/15 [00:00<?, ?it/s]"
      ]
     },
     "metadata": {},
     "output_type": "display_data"
    },
    {
     "data": {
      "application/vnd.jupyter.widget-view+json": {
       "model_id": "6778a29a6e86421299c9f5be43d5deb3",
       "version_major": 2,
       "version_minor": 0
      },
      "text/plain": [
       "  0%|          | 0/15 [00:00<?, ?it/s]"
      ]
     },
     "metadata": {},
     "output_type": "display_data"
    },
    {
     "data": {
      "application/vnd.jupyter.widget-view+json": {
       "model_id": "2d1cbc90051e4c0a80ddd0062e354c38",
       "version_major": 2,
       "version_minor": 0
      },
      "text/plain": [
       "  0%|          | 0/15 [00:00<?, ?it/s]"
      ]
     },
     "metadata": {},
     "output_type": "display_data"
    },
    {
     "data": {
      "application/vnd.jupyter.widget-view+json": {
       "model_id": "d0faa22624ac4428a468074ff28af130",
       "version_major": 2,
       "version_minor": 0
      },
      "text/plain": [
       "  0%|          | 0/15 [00:00<?, ?it/s]"
      ]
     },
     "metadata": {},
     "output_type": "display_data"
    },
    {
     "data": {
      "application/vnd.jupyter.widget-view+json": {
       "model_id": "a7a1bd3ae92646fbbd3afa90a981af7e",
       "version_major": 2,
       "version_minor": 0
      },
      "text/plain": [
       "  0%|          | 0/15 [00:00<?, ?it/s]"
      ]
     },
     "metadata": {},
     "output_type": "display_data"
    },
    {
     "data": {
      "application/vnd.jupyter.widget-view+json": {
       "model_id": "d4aead3be03642f1ab1770a275214c5b",
       "version_major": 2,
       "version_minor": 0
      },
      "text/plain": [
       "  0%|          | 0/15 [00:00<?, ?it/s]"
      ]
     },
     "metadata": {},
     "output_type": "display_data"
    },
    {
     "data": {
      "application/vnd.jupyter.widget-view+json": {
       "model_id": "dba61b9682774a029a909e9efce96e48",
       "version_major": 2,
       "version_minor": 0
      },
      "text/plain": [
       "  0%|          | 0/15 [00:00<?, ?it/s]"
      ]
     },
     "metadata": {},
     "output_type": "display_data"
    },
    {
     "data": {
      "application/vnd.jupyter.widget-view+json": {
       "model_id": "f361e78a8f044bc690f73969033a3a3a",
       "version_major": 2,
       "version_minor": 0
      },
      "text/plain": [
       "  0%|          | 0/15 [00:00<?, ?it/s]"
      ]
     },
     "metadata": {},
     "output_type": "display_data"
    },
    {
     "data": {
      "application/vnd.jupyter.widget-view+json": {
       "model_id": "b7443141063f40af957623a1f885f709",
       "version_major": 2,
       "version_minor": 0
      },
      "text/plain": [
       "  0%|          | 0/15 [00:00<?, ?it/s]"
      ]
     },
     "metadata": {},
     "output_type": "display_data"
    },
    {
     "data": {
      "application/vnd.jupyter.widget-view+json": {
       "model_id": "35ab00b075d8413a8b51a87af08eb80a",
       "version_major": 2,
       "version_minor": 0
      },
      "text/plain": [
       "  0%|          | 0/15 [00:00<?, ?it/s]"
      ]
     },
     "metadata": {},
     "output_type": "display_data"
    },
    {
     "data": {
      "application/vnd.jupyter.widget-view+json": {
       "model_id": "6b35ceb751c6461484d287e24340270c",
       "version_major": 2,
       "version_minor": 0
      },
      "text/plain": [
       "  0%|          | 0/15 [00:00<?, ?it/s]"
      ]
     },
     "metadata": {},
     "output_type": "display_data"
    },
    {
     "data": {
      "application/vnd.jupyter.widget-view+json": {
       "model_id": "db91dce22677480e90b4f21b841f41d1",
       "version_major": 2,
       "version_minor": 0
      },
      "text/plain": [
       "  0%|          | 0/15 [00:00<?, ?it/s]"
      ]
     },
     "metadata": {},
     "output_type": "display_data"
    },
    {
     "data": {
      "application/vnd.jupyter.widget-view+json": {
       "model_id": "8cf338dcc210471c97da7c60fc53489a",
       "version_major": 2,
       "version_minor": 0
      },
      "text/plain": [
       "  0%|          | 0/15 [00:00<?, ?it/s]"
      ]
     },
     "metadata": {},
     "output_type": "display_data"
    },
    {
     "data": {
      "application/vnd.jupyter.widget-view+json": {
       "model_id": "bcf304338ce34a7cb1e617fec599ae11",
       "version_major": 2,
       "version_minor": 0
      },
      "text/plain": [
       "  0%|          | 0/15 [00:00<?, ?it/s]"
      ]
     },
     "metadata": {},
     "output_type": "display_data"
    },
    {
     "data": {
      "application/vnd.jupyter.widget-view+json": {
       "model_id": "2ffe3c5a25fb4ec8a18563f60db5b2dd",
       "version_major": 2,
       "version_minor": 0
      },
      "text/plain": [
       "  0%|          | 0/15 [00:00<?, ?it/s]"
      ]
     },
     "metadata": {},
     "output_type": "display_data"
    },
    {
     "data": {
      "application/vnd.jupyter.widget-view+json": {
       "model_id": "582efb87ee97461997433d40cf95f5aa",
       "version_major": 2,
       "version_minor": 0
      },
      "text/plain": [
       "  0%|          | 0/15 [00:00<?, ?it/s]"
      ]
     },
     "metadata": {},
     "output_type": "display_data"
    },
    {
     "data": {
      "application/vnd.jupyter.widget-view+json": {
       "model_id": "3d9ffada02f3456e867c1b2a2619a145",
       "version_major": 2,
       "version_minor": 0
      },
      "text/plain": [
       "  0%|          | 0/15 [00:00<?, ?it/s]"
      ]
     },
     "metadata": {},
     "output_type": "display_data"
    },
    {
     "data": {
      "application/vnd.jupyter.widget-view+json": {
       "model_id": "2bffada64b984db8b21e527684b0e407",
       "version_major": 2,
       "version_minor": 0
      },
      "text/plain": [
       "  0%|          | 0/15 [00:00<?, ?it/s]"
      ]
     },
     "metadata": {},
     "output_type": "display_data"
    },
    {
     "data": {
      "application/vnd.jupyter.widget-view+json": {
       "model_id": "0168f9554f0e4b80a311eda692fad419",
       "version_major": 2,
       "version_minor": 0
      },
      "text/plain": [
       "  0%|          | 0/15 [00:00<?, ?it/s]"
      ]
     },
     "metadata": {},
     "output_type": "display_data"
    },
    {
     "data": {
      "application/vnd.jupyter.widget-view+json": {
       "model_id": "4b1c9f38d3ce4ff398da7f7b5ff6915e",
       "version_major": 2,
       "version_minor": 0
      },
      "text/plain": [
       "  0%|          | 0/15 [00:00<?, ?it/s]"
      ]
     },
     "metadata": {},
     "output_type": "display_data"
    },
    {
     "data": {
      "application/vnd.jupyter.widget-view+json": {
       "model_id": "7fbc1ac0ff764484acf21bf7d91b6079",
       "version_major": 2,
       "version_minor": 0
      },
      "text/plain": [
       "  0%|          | 0/15 [00:00<?, ?it/s]"
      ]
     },
     "metadata": {},
     "output_type": "display_data"
    },
    {
     "data": {
      "application/vnd.jupyter.widget-view+json": {
       "model_id": "6de5807a11b74c49bf7685500e541d07",
       "version_major": 2,
       "version_minor": 0
      },
      "text/plain": [
       "  0%|          | 0/15 [00:00<?, ?it/s]"
      ]
     },
     "metadata": {},
     "output_type": "display_data"
    },
    {
     "data": {
      "application/vnd.jupyter.widget-view+json": {
       "model_id": "747a257c677440aeaf1d543450a51bb3",
       "version_major": 2,
       "version_minor": 0
      },
      "text/plain": [
       "  0%|          | 0/15 [00:00<?, ?it/s]"
      ]
     },
     "metadata": {},
     "output_type": "display_data"
    },
    {
     "data": {
      "application/vnd.jupyter.widget-view+json": {
       "model_id": "6a7306d191b84e1798dc20f09b49d930",
       "version_major": 2,
       "version_minor": 0
      },
      "text/plain": [
       "  0%|          | 0/15 [00:00<?, ?it/s]"
      ]
     },
     "metadata": {},
     "output_type": "display_data"
    },
    {
     "data": {
      "application/vnd.jupyter.widget-view+json": {
       "model_id": "005988cb61f14ffba06ed8101c5f4c85",
       "version_major": 2,
       "version_minor": 0
      },
      "text/plain": [
       "  0%|          | 0/15 [00:00<?, ?it/s]"
      ]
     },
     "metadata": {},
     "output_type": "display_data"
    },
    {
     "data": {
      "application/vnd.jupyter.widget-view+json": {
       "model_id": "e184a955f98d4e95955eb08cf25d0eed",
       "version_major": 2,
       "version_minor": 0
      },
      "text/plain": [
       "  0%|          | 0/15 [00:00<?, ?it/s]"
      ]
     },
     "metadata": {},
     "output_type": "display_data"
    },
    {
     "data": {
      "application/vnd.jupyter.widget-view+json": {
       "model_id": "0c30f76131ea44e38542e88fbc03a7ad",
       "version_major": 2,
       "version_minor": 0
      },
      "text/plain": [
       "  0%|          | 0/15 [00:00<?, ?it/s]"
      ]
     },
     "metadata": {},
     "output_type": "display_data"
    },
    {
     "data": {
      "application/vnd.jupyter.widget-view+json": {
       "model_id": "9f0e8c596242434ca921caac9b16406e",
       "version_major": 2,
       "version_minor": 0
      },
      "text/plain": [
       "  0%|          | 0/15 [00:00<?, ?it/s]"
      ]
     },
     "metadata": {},
     "output_type": "display_data"
    },
    {
     "data": {
      "application/vnd.jupyter.widget-view+json": {
       "model_id": "2c0c0a74ae2240b498a63a221f87a10a",
       "version_major": 2,
       "version_minor": 0
      },
      "text/plain": [
       "  0%|          | 0/15 [00:00<?, ?it/s]"
      ]
     },
     "metadata": {},
     "output_type": "display_data"
    },
    {
     "data": {
      "application/vnd.jupyter.widget-view+json": {
       "model_id": "35cb86df109e465c80bb36e5348ed1e6",
       "version_major": 2,
       "version_minor": 0
      },
      "text/plain": [
       "  0%|          | 0/15 [00:00<?, ?it/s]"
      ]
     },
     "metadata": {},
     "output_type": "display_data"
    },
    {
     "data": {
      "application/vnd.jupyter.widget-view+json": {
       "model_id": "053700d904984f828834bb597147877a",
       "version_major": 2,
       "version_minor": 0
      },
      "text/plain": [
       "  0%|          | 0/15 [00:00<?, ?it/s]"
      ]
     },
     "metadata": {},
     "output_type": "display_data"
    },
    {
     "data": {
      "application/vnd.jupyter.widget-view+json": {
       "model_id": "4e9d984b27024635947e855a6f51a7ca",
       "version_major": 2,
       "version_minor": 0
      },
      "text/plain": [
       "  0%|          | 0/15 [00:00<?, ?it/s]"
      ]
     },
     "metadata": {},
     "output_type": "display_data"
    },
    {
     "data": {
      "application/vnd.jupyter.widget-view+json": {
       "model_id": "3cb00343f0b8410bb0e7626ea33d4cfd",
       "version_major": 2,
       "version_minor": 0
      },
      "text/plain": [
       "  0%|          | 0/15 [00:00<?, ?it/s]"
      ]
     },
     "metadata": {},
     "output_type": "display_data"
    },
    {
     "data": {
      "application/vnd.jupyter.widget-view+json": {
       "model_id": "79f39969d6d640c7a4d12f7b18a317e8",
       "version_major": 2,
       "version_minor": 0
      },
      "text/plain": [
       "  0%|          | 0/15 [00:00<?, ?it/s]"
      ]
     },
     "metadata": {},
     "output_type": "display_data"
    },
    {
     "data": {
      "application/vnd.jupyter.widget-view+json": {
       "model_id": "d6f92e74b1b1419b9e6ea69f604c5cf7",
       "version_major": 2,
       "version_minor": 0
      },
      "text/plain": [
       "  0%|          | 0/15 [00:00<?, ?it/s]"
      ]
     },
     "metadata": {},
     "output_type": "display_data"
    },
    {
     "data": {
      "application/vnd.jupyter.widget-view+json": {
       "model_id": "364ba98a526940ef9f7d284f6c524ea5",
       "version_major": 2,
       "version_minor": 0
      },
      "text/plain": [
       "  0%|          | 0/15 [00:00<?, ?it/s]"
      ]
     },
     "metadata": {},
     "output_type": "display_data"
    },
    {
     "data": {
      "application/vnd.jupyter.widget-view+json": {
       "model_id": "8fd4d4964af94c4f9adcb27923fea59c",
       "version_major": 2,
       "version_minor": 0
      },
      "text/plain": [
       "  0%|          | 0/15 [00:00<?, ?it/s]"
      ]
     },
     "metadata": {},
     "output_type": "display_data"
    },
    {
     "data": {
      "application/vnd.jupyter.widget-view+json": {
       "model_id": "c17b9c7c3b97400e988477e912d55867",
       "version_major": 2,
       "version_minor": 0
      },
      "text/plain": [
       "  0%|          | 0/15 [00:00<?, ?it/s]"
      ]
     },
     "metadata": {},
     "output_type": "display_data"
    },
    {
     "data": {
      "application/vnd.jupyter.widget-view+json": {
       "model_id": "0e830d489e314881b692f288f61af90b",
       "version_major": 2,
       "version_minor": 0
      },
      "text/plain": [
       "  0%|          | 0/15 [00:00<?, ?it/s]"
      ]
     },
     "metadata": {},
     "output_type": "display_data"
    },
    {
     "data": {
      "application/vnd.jupyter.widget-view+json": {
       "model_id": "a18ae8975abd488c9d8ccbc4a0855c94",
       "version_major": 2,
       "version_minor": 0
      },
      "text/plain": [
       "  0%|          | 0/15 [00:00<?, ?it/s]"
      ]
     },
     "metadata": {},
     "output_type": "display_data"
    },
    {
     "data": {
      "application/vnd.jupyter.widget-view+json": {
       "model_id": "a0119d072c7f4d60afe866121adadc83",
       "version_major": 2,
       "version_minor": 0
      },
      "text/plain": [
       "  0%|          | 0/15 [00:00<?, ?it/s]"
      ]
     },
     "metadata": {},
     "output_type": "display_data"
    },
    {
     "data": {
      "application/vnd.jupyter.widget-view+json": {
       "model_id": "fef8d2a066fa4df487bf4864fe241824",
       "version_major": 2,
       "version_minor": 0
      },
      "text/plain": [
       "  0%|          | 0/15 [00:00<?, ?it/s]"
      ]
     },
     "metadata": {},
     "output_type": "display_data"
    },
    {
     "data": {
      "application/vnd.jupyter.widget-view+json": {
       "model_id": "55ceadc946c541b8bb9403702e60234c",
       "version_major": 2,
       "version_minor": 0
      },
      "text/plain": [
       "  0%|          | 0/15 [00:00<?, ?it/s]"
      ]
     },
     "metadata": {},
     "output_type": "display_data"
    },
    {
     "data": {
      "application/vnd.jupyter.widget-view+json": {
       "model_id": "75332fa9ee1c47e9a384908e984935d9",
       "version_major": 2,
       "version_minor": 0
      },
      "text/plain": [
       "  0%|          | 0/15 [00:00<?, ?it/s]"
      ]
     },
     "metadata": {},
     "output_type": "display_data"
    },
    {
     "data": {
      "application/vnd.jupyter.widget-view+json": {
       "model_id": "f85150ea80ae4aefb9e27232e9f12f0e",
       "version_major": 2,
       "version_minor": 0
      },
      "text/plain": [
       "  0%|          | 0/15 [00:00<?, ?it/s]"
      ]
     },
     "metadata": {},
     "output_type": "display_data"
    },
    {
     "data": {
      "application/vnd.jupyter.widget-view+json": {
       "model_id": "3332df59818242afbade3f18667f3a19",
       "version_major": 2,
       "version_minor": 0
      },
      "text/plain": [
       "  0%|          | 0/15 [00:00<?, ?it/s]"
      ]
     },
     "metadata": {},
     "output_type": "display_data"
    },
    {
     "data": {
      "application/vnd.jupyter.widget-view+json": {
       "model_id": "cdcc4bd2be9d40eabb29f5cbe01f84eb",
       "version_major": 2,
       "version_minor": 0
      },
      "text/plain": [
       "  0%|          | 0/15 [00:00<?, ?it/s]"
      ]
     },
     "metadata": {},
     "output_type": "display_data"
    },
    {
     "data": {
      "application/vnd.jupyter.widget-view+json": {
       "model_id": "6913cec2ea0741a8af4f90269865b867",
       "version_major": 2,
       "version_minor": 0
      },
      "text/plain": [
       "  0%|          | 0/15 [00:00<?, ?it/s]"
      ]
     },
     "metadata": {},
     "output_type": "display_data"
    },
    {
     "data": {
      "application/vnd.jupyter.widget-view+json": {
       "model_id": "436542aa0d0041558ba5b92559ff03e9",
       "version_major": 2,
       "version_minor": 0
      },
      "text/plain": [
       "  0%|          | 0/15 [00:00<?, ?it/s]"
      ]
     },
     "metadata": {},
     "output_type": "display_data"
    },
    {
     "data": {
      "application/vnd.jupyter.widget-view+json": {
       "model_id": "a3dc7b3ef050489eb6ab5cbe314a751c",
       "version_major": 2,
       "version_minor": 0
      },
      "text/plain": [
       "  0%|          | 0/15 [00:00<?, ?it/s]"
      ]
     },
     "metadata": {},
     "output_type": "display_data"
    },
    {
     "data": {
      "application/vnd.jupyter.widget-view+json": {
       "model_id": "046e492dfc774a0d999263216da1bca6",
       "version_major": 2,
       "version_minor": 0
      },
      "text/plain": [
       "  0%|          | 0/15 [00:00<?, ?it/s]"
      ]
     },
     "metadata": {},
     "output_type": "display_data"
    },
    {
     "data": {
      "application/vnd.jupyter.widget-view+json": {
       "model_id": "ed36084552cb4686a147a4d989279c3e",
       "version_major": 2,
       "version_minor": 0
      },
      "text/plain": [
       "  0%|          | 0/15 [00:00<?, ?it/s]"
      ]
     },
     "metadata": {},
     "output_type": "display_data"
    },
    {
     "data": {
      "application/vnd.jupyter.widget-view+json": {
       "model_id": "a6aa7fa02f604153a3c3fe37b6fbb973",
       "version_major": 2,
       "version_minor": 0
      },
      "text/plain": [
       "  0%|          | 0/15 [00:00<?, ?it/s]"
      ]
     },
     "metadata": {},
     "output_type": "display_data"
    },
    {
     "data": {
      "application/vnd.jupyter.widget-view+json": {
       "model_id": "84cbadf9af354b01ad11beb2f9f15755",
       "version_major": 2,
       "version_minor": 0
      },
      "text/plain": [
       "  0%|          | 0/15 [00:00<?, ?it/s]"
      ]
     },
     "metadata": {},
     "output_type": "display_data"
    },
    {
     "data": {
      "application/vnd.jupyter.widget-view+json": {
       "model_id": "5f29d6ad9a794ca494bc34344ac4fb83",
       "version_major": 2,
       "version_minor": 0
      },
      "text/plain": [
       "  0%|          | 0/15 [00:00<?, ?it/s]"
      ]
     },
     "metadata": {},
     "output_type": "display_data"
    },
    {
     "data": {
      "application/vnd.jupyter.widget-view+json": {
       "model_id": "53370b4eda0e4e3f8ad337b643577f54",
       "version_major": 2,
       "version_minor": 0
      },
      "text/plain": [
       "  0%|          | 0/15 [00:00<?, ?it/s]"
      ]
     },
     "metadata": {},
     "output_type": "display_data"
    },
    {
     "data": {
      "application/vnd.jupyter.widget-view+json": {
       "model_id": "95bbfc291a8d43e7b63f906871ec485f",
       "version_major": 2,
       "version_minor": 0
      },
      "text/plain": [
       "  0%|          | 0/15 [00:00<?, ?it/s]"
      ]
     },
     "metadata": {},
     "output_type": "display_data"
    },
    {
     "data": {
      "application/vnd.jupyter.widget-view+json": {
       "model_id": "9caf9dcc19764adbb8e962c999cbd16f",
       "version_major": 2,
       "version_minor": 0
      },
      "text/plain": [
       "  0%|          | 0/15 [00:00<?, ?it/s]"
      ]
     },
     "metadata": {},
     "output_type": "display_data"
    },
    {
     "data": {
      "application/vnd.jupyter.widget-view+json": {
       "model_id": "aa70bca9547449d4811385a0a55335c8",
       "version_major": 2,
       "version_minor": 0
      },
      "text/plain": [
       "  0%|          | 0/15 [00:00<?, ?it/s]"
      ]
     },
     "metadata": {},
     "output_type": "display_data"
    },
    {
     "data": {
      "application/vnd.jupyter.widget-view+json": {
       "model_id": "10bea6ac73d04e709c1b8339be7ece70",
       "version_major": 2,
       "version_minor": 0
      },
      "text/plain": [
       "  0%|          | 0/15 [00:00<?, ?it/s]"
      ]
     },
     "metadata": {},
     "output_type": "display_data"
    },
    {
     "data": {
      "application/vnd.jupyter.widget-view+json": {
       "model_id": "a534b4a0492e4e4f9c330dd0dcf062fc",
       "version_major": 2,
       "version_minor": 0
      },
      "text/plain": [
       "  0%|          | 0/15 [00:00<?, ?it/s]"
      ]
     },
     "metadata": {},
     "output_type": "display_data"
    },
    {
     "data": {
      "application/vnd.jupyter.widget-view+json": {
       "model_id": "3247f0d1eead45deb8d5019e128dccc0",
       "version_major": 2,
       "version_minor": 0
      },
      "text/plain": [
       "  0%|          | 0/15 [00:00<?, ?it/s]"
      ]
     },
     "metadata": {},
     "output_type": "display_data"
    },
    {
     "data": {
      "application/vnd.jupyter.widget-view+json": {
       "model_id": "a3927278dbba4f9e8a449d175e3982e6",
       "version_major": 2,
       "version_minor": 0
      },
      "text/plain": [
       "  0%|          | 0/15 [00:00<?, ?it/s]"
      ]
     },
     "metadata": {},
     "output_type": "display_data"
    },
    {
     "data": {
      "application/vnd.jupyter.widget-view+json": {
       "model_id": "63278364b4c1431c9022a0f0a5747534",
       "version_major": 2,
       "version_minor": 0
      },
      "text/plain": [
       "  0%|          | 0/15 [00:00<?, ?it/s]"
      ]
     },
     "metadata": {},
     "output_type": "display_data"
    },
    {
     "data": {
      "application/vnd.jupyter.widget-view+json": {
       "model_id": "4b34b5c12d0841338d46660454166c6c",
       "version_major": 2,
       "version_minor": 0
      },
      "text/plain": [
       "  0%|          | 0/15 [00:00<?, ?it/s]"
      ]
     },
     "metadata": {},
     "output_type": "display_data"
    },
    {
     "data": {
      "application/vnd.jupyter.widget-view+json": {
       "model_id": "5d3625d6d9094291b863205d282747ac",
       "version_major": 2,
       "version_minor": 0
      },
      "text/plain": [
       "  0%|          | 0/15 [00:00<?, ?it/s]"
      ]
     },
     "metadata": {},
     "output_type": "display_data"
    },
    {
     "data": {
      "application/vnd.jupyter.widget-view+json": {
       "model_id": "3e66df2f0b484bc5a3161b9448419ce8",
       "version_major": 2,
       "version_minor": 0
      },
      "text/plain": [
       "  0%|          | 0/15 [00:00<?, ?it/s]"
      ]
     },
     "metadata": {},
     "output_type": "display_data"
    },
    {
     "data": {
      "application/vnd.jupyter.widget-view+json": {
       "model_id": "dd42673bd6fb4365aa8463b00ca2fcf9",
       "version_major": 2,
       "version_minor": 0
      },
      "text/plain": [
       "  0%|          | 0/15 [00:00<?, ?it/s]"
      ]
     },
     "metadata": {},
     "output_type": "display_data"
    },
    {
     "data": {
      "application/vnd.jupyter.widget-view+json": {
       "model_id": "2ab9c36678104412ae6019fd3d6789f0",
       "version_major": 2,
       "version_minor": 0
      },
      "text/plain": [
       "  0%|          | 0/15 [00:00<?, ?it/s]"
      ]
     },
     "metadata": {},
     "output_type": "display_data"
    },
    {
     "data": {
      "application/vnd.jupyter.widget-view+json": {
       "model_id": "4d287ec6b2924fbbb4817c831f5c21c3",
       "version_major": 2,
       "version_minor": 0
      },
      "text/plain": [
       "  0%|          | 0/15 [00:00<?, ?it/s]"
      ]
     },
     "metadata": {},
     "output_type": "display_data"
    },
    {
     "data": {
      "application/vnd.jupyter.widget-view+json": {
       "model_id": "1a1f848e6df64ebbae78d8ac81982941",
       "version_major": 2,
       "version_minor": 0
      },
      "text/plain": [
       "  0%|          | 0/15 [00:00<?, ?it/s]"
      ]
     },
     "metadata": {},
     "output_type": "display_data"
    },
    {
     "data": {
      "application/vnd.jupyter.widget-view+json": {
       "model_id": "5e2682cc8fb54aa2bee54e9b7c7cad52",
       "version_major": 2,
       "version_minor": 0
      },
      "text/plain": [
       "  0%|          | 0/15 [00:00<?, ?it/s]"
      ]
     },
     "metadata": {},
     "output_type": "display_data"
    },
    {
     "data": {
      "application/vnd.jupyter.widget-view+json": {
       "model_id": "c754ae5b2e584e7682cad2657244e4de",
       "version_major": 2,
       "version_minor": 0
      },
      "text/plain": [
       "  0%|          | 0/15 [00:00<?, ?it/s]"
      ]
     },
     "metadata": {},
     "output_type": "display_data"
    },
    {
     "data": {
      "application/vnd.jupyter.widget-view+json": {
       "model_id": "1fa21de914e44888a626f31159c12510",
       "version_major": 2,
       "version_minor": 0
      },
      "text/plain": [
       "  0%|          | 0/15 [00:00<?, ?it/s]"
      ]
     },
     "metadata": {},
     "output_type": "display_data"
    },
    {
     "data": {
      "application/vnd.jupyter.widget-view+json": {
       "model_id": "ae78b5999e134322ab8ad067eea3b532",
       "version_major": 2,
       "version_minor": 0
      },
      "text/plain": [
       "  0%|          | 0/15 [00:00<?, ?it/s]"
      ]
     },
     "metadata": {},
     "output_type": "display_data"
    },
    {
     "data": {
      "application/vnd.jupyter.widget-view+json": {
       "model_id": "7b225c1a0a1c4f948d4f51aadb7b1e6f",
       "version_major": 2,
       "version_minor": 0
      },
      "text/plain": [
       "  0%|          | 0/15 [00:00<?, ?it/s]"
      ]
     },
     "metadata": {},
     "output_type": "display_data"
    },
    {
     "data": {
      "application/vnd.jupyter.widget-view+json": {
       "model_id": "faaca4bf47a84e74976e58f2ba89a77d",
       "version_major": 2,
       "version_minor": 0
      },
      "text/plain": [
       "  0%|          | 0/15 [00:00<?, ?it/s]"
      ]
     },
     "metadata": {},
     "output_type": "display_data"
    },
    {
     "data": {
      "application/vnd.jupyter.widget-view+json": {
       "model_id": "4ff93d14b6114271b596a07a2ff2c6db",
       "version_major": 2,
       "version_minor": 0
      },
      "text/plain": [
       "  0%|          | 0/15 [00:00<?, ?it/s]"
      ]
     },
     "metadata": {},
     "output_type": "display_data"
    },
    {
     "data": {
      "application/vnd.jupyter.widget-view+json": {
       "model_id": "bed507792d404dd296c457ac6559aeb0",
       "version_major": 2,
       "version_minor": 0
      },
      "text/plain": [
       "  0%|          | 0/15 [00:00<?, ?it/s]"
      ]
     },
     "metadata": {},
     "output_type": "display_data"
    }
   ],
   "source": [
    "from tqdm.notebook import trange, tqdm\n",
    "\n",
    "epochs = 100\n",
    "optimizer = torch.optim.Adam(lr=1e-4, params=model.parameters())\n",
    "hkr_loss = torchlip.HKRMulticlassLoss(alpha=100, min_margin=0.25)\n",
    "\n",
    "tepochs = trange(epochs)\n",
    "for _ in tepochs:\n",
    "    m_kr, m_acc = 0, 0\n",
    "\n",
    "    tsteps = tqdm(train_loader)\n",
    "\n",
    "    for step, (data, target) in enumerate(tsteps):\n",
    "        # For multiclass HKR loss, the targets must be one-hot encoded\n",
    "        target = torch.nn.functional.one_hot(target, num_classes=10)\n",
    "        data, target = data.to(device), target.to(device)\n",
    "\n",
    "        # Forward + backward pass\n",
    "        optimizer.zero_grad()\n",
    "        output = model(data)\n",
    "        loss = hkr_loss(output, target)\n",
    "        loss.backward()\n",
    "        optimizer.step()\n",
    "\n",
    "        # Compute metrics on batch\n",
    "        m_kr += torchlip.functional.kr_multiclass_loss(output, target)\n",
    "        m_acc += (output.argmax(dim=1) == target.argmax(dim=1)).sum() / len(target)\n",
    "\n",
    "        # Print metrics of current batch\n",
    "        tsteps.set_postfix(\n",
    "            {\n",
    "                k: \"{:.04f}\".format(v)\n",
    "                for k, v in {\n",
    "                    \"loss\": loss,\n",
    "                    \"kr\": m_kr / (step + 1),\n",
    "                    \"acc\": m_acc / (step + 1),\n",
    "                }.items()\n",
    "            }\n",
    "        )\n",
    "\n",
    "    # Compute test loss for the current epoch\n",
    "    test_output, test_targets = [], []\n",
    "    for data, target in test_loader:\n",
    "        data, target = data.to(device), target.to(device)\n",
    "        test_output.append(model(data).detach().cpu())\n",
    "        test_targets.append(\n",
    "            torch.nn.functional.one_hot(target, num_classes=10).detach().cpu()\n",
    "        )\n",
    "    test_output = torch.cat(test_output)\n",
    "    test_targets = torch.cat(test_targets)\n",
    "\n",
    "    # Print metrics for the current epoch\n",
    "    postfix_end_epoch = {\n",
    "        f\"train_{k}\": f\"{v:.04f}\"\n",
    "        for k, v in {\n",
    "            \"loss\": loss,\n",
    "            \"kr\": m_kr / len(train_loader),\n",
    "            \"acc\": m_acc / len(train_loader),\n",
    "        }.items()\n",
    "    }\n",
    "    postfix_end_epoch.update(\n",
    "        {\n",
    "            f\"val_{k}\": f\"{v:.04f}\"\n",
    "            for k, v in {\n",
    "                \"loss\": hkr_loss(test_output, test_targets),\n",
    "                \"kr\": torchlip.functional.kr_multiclass_loss(test_output, test_targets),\n",
    "                \"acc\": (test_output.argmax(dim=1) == test_targets.argmax(dim=1))\n",
    "                .float()\n",
    "                .mean(),\n",
    "            }.items()\n",
    "        }\n",
    "    )\n",
    "    tepochs.set_postfix(postfix_end_epoch)\n"
   ]
  },
  {
   "cell_type": "markdown",
   "metadata": {},
   "source": [
    "## 4. Model export\n",
    "\n",
    "Once training is finished, the model can be optimized for inference by using the\n",
    "`vanilla_export()` method. The `torchlip` layers are converted to their PyTorch\n",
    "counterparts, e.g. `SpectralConv2d` layers will be converted into `torch.nn.Conv2d`\n",
    "layers.\n"
   ]
  },
  {
   "cell_type": "code",
   "execution_count": 4,
   "metadata": {},
   "outputs": [
    {
     "data": {
      "text/plain": [
       "Sequential(\n",
       "  (0): Conv2d(1, 16, kernel_size=(3, 3), stride=(1, 1), padding=same)\n",
       "  (1): GroupSort2()\n",
       "  (2): ScaledL2NormPool2d(kernel_size=(2, 2), stride=(2, 2), padding=0)\n",
       "  (3): Conv2d(16, 32, kernel_size=(3, 3), stride=(1, 1), padding=same)\n",
       "  (4): GroupSort2()\n",
       "  (5): ScaledL2NormPool2d(kernel_size=(2, 2), stride=(2, 2), padding=0)\n",
       "  (6): Flatten(start_dim=1, end_dim=-1)\n",
       "  (7): Linear(in_features=1568, out_features=64, bias=True)\n",
       "  (8): GroupSort2()\n",
       "  (9): Linear(in_features=64, out_features=10, bias=False)\n",
       ")"
      ]
     },
     "execution_count": 4,
     "metadata": {},
     "output_type": "execute_result"
    }
   ],
   "source": [
    "vanilla_model = model.vanilla_export()\n",
    "vanilla_model.eval()\n",
    "vanilla_model.to(device)\n"
   ]
  },
  {
   "cell_type": "markdown",
   "metadata": {},
   "source": [
    "## 5. Robustness evaluation: certificate generation and adversarial attacks\n",
    "\n",
    "A Lipschitz network provides certificates guaranteeing that there is no adversarial\n",
    "attack smaller than the certificates. We will show how to compute a certificate for a\n",
    "given image sample.\n",
    "\n",
    "We will also run attacks on 10 images (one per class) and show that the distance between\n",
    "the obtained adversarial images and the original images is greater than the\n",
    "certificates. The `foolbox` library is used to perform adversarial attacks.\n"
   ]
  },
  {
   "cell_type": "code",
   "execution_count": 5,
   "metadata": {},
   "outputs": [],
   "source": [
    "import numpy as np\n",
    "\n",
    "# Select only the first batch from the test set\n",
    "sub_data, sub_targets = iter(test_loader).next()\n",
    "sub_data, sub_targets = sub_data.to(device), sub_targets.to(device)\n",
    "\n",
    "# Drop misclassified elements\n",
    "output = vanilla_model(sub_data)\n",
    "well_classified_mask = output.argmax(dim=-1) == sub_targets\n",
    "sub_data = sub_data[well_classified_mask]\n",
    "sub_targets = sub_targets[well_classified_mask]\n",
    "\n",
    "# Retrieve one image per class\n",
    "images_list, targets_list = [], []\n",
    "for i in range(10):\n",
    "    # Select the elements of the i-th label and keep the first one\n",
    "    label_mask = sub_targets == i\n",
    "    x = sub_data[label_mask][0]\n",
    "    y = sub_targets[label_mask][0]\n",
    "\n",
    "    images_list.append(x)\n",
    "    targets_list.append(y)\n",
    "\n",
    "images = torch.stack(images_list)\n",
    "targets = torch.stack(targets_list)\n"
   ]
  },
  {
   "cell_type": "markdown",
   "metadata": {},
   "source": [
    "In order to build a certificate $\\mathcal{M}$ for a given sample, we take the top-2\n",
    "output and apply the following formula:\n",
    "\n",
    "$$ \\mathcal{M} = \\frac{\\text{top}_1 - \\text{top}_2}{\\sqrt{2}} $$\n",
    "\n",
    "This certificate is a guarantee that no L2 attack can defeat the given image sample with\n",
    "a robustness radius $\\epsilon$ lower than the certificate, i.e.\n",
    "\n",
    "$$ \\epsilon \\geq \\mathcal{M} $$\n",
    "\n",
    "In the following cell, we attack the model on the ten selected images and compare the\n",
    "obtained radius $\\epsilon$ with the certificates $\\mathcal{M}$. In this setup,\n",
    "`L2CarliniWagnerAttack` from `foolbox` is used but in practice as these kind of networks\n",
    "are gradient norm preserving, other attacks gives very similar results.\n"
   ]
  },
  {
   "cell_type": "code",
   "execution_count": 6,
   "metadata": {},
   "outputs": [
    {
     "name": "stdout",
     "output_type": "stream",
     "text": [
      "Image #     Certificate     Distance to adversarial\n",
      "---------------------------------------------------\n",
      "Image 0        0.545                1.57\n",
      "Image 1        1.470                3.57\n",
      "Image 2        0.505                1.80\n",
      "Image 3        0.777                1.96\n",
      "Image 4        0.182                0.52\n",
      "Image 5        0.213                0.59\n",
      "Image 6        0.136                0.49\n",
      "Image 7        0.477                1.06\n",
      "Image 8        1.148                3.25\n",
      "Image 9        0.228                0.61\n"
     ]
    }
   ],
   "source": [
    "import foolbox as fb\n",
    "\n",
    "# Compute certificates\n",
    "values, _ = vanilla_model(images).topk(k=2)\n",
    "certificates = (values[:, 0] - values[:, 1]) / np.sqrt(2)\n",
    "\n",
    "# Run Carlini & Wagner attack\n",
    "fmodel = fb.PyTorchModel(vanilla_model, bounds=(0.0, 1.0), device=device)\n",
    "attack = fb.attacks.L2CarliniWagnerAttack(binary_search_steps=6, steps=8000)\n",
    "_, advs, success = attack(fmodel, images, targets, epsilons=None)\n",
    "dist_to_adv = (images - advs).square().sum(dim=(1, 2, 3)).sqrt()\n",
    "\n",
    "# Print results\n",
    "print(\"Image #     Certificate     Distance to adversarial\")\n",
    "print(\"---------------------------------------------------\")\n",
    "for i in range(len(certificates)):\n",
    "    print(f\"Image {i}        {certificates[i]:.3f}                {dist_to_adv[i]:.2f}\")\n"
   ]
  },
  {
   "cell_type": "markdown",
   "metadata": {},
   "source": [
    "Finally, we can take a visual look at the obtained images. When looking at the\n",
    "adversarial examples, we can see that the network has interesting properties:\n",
    "\n",
    "- **Predictability**: by looking at the certificates, we can predict if the adversarial\n",
    "  example will be close or not to the original image.\n",
    "- **Disparity among classes**: as we can see, the attacks are very efficent on similar\n",
    "  classes (e.g. T-shirt/top, and Shirt). This denotes that all classes are not made\n",
    "  equal regarding robustness.\n",
    "- **Explainability**: the network is more explainable as attacks can be used as\n",
    "  counterfactuals. We can tell that removing the inscription on a T-shirt turns it into\n",
    "  a shirt makes sense. Non-robust examples reveal that the network relies on textures\n",
    "  rather on shapes to make its decision.\n"
   ]
  },
  {
   "cell_type": "code",
   "execution_count": 7,
   "metadata": {},
   "outputs": [
    {
     "data": {
      "image/png": "[encoded data removed]",
      "text/plain": [
       "<Figure size 324x1080 with 30 Axes>"
      ]
     },
     "metadata": {},
     "output_type": "display_data"
    }
   ],
   "source": [
    "import matplotlib.pyplot as plt\n",
    "\n",
    "def adversarial_viz(model, images, advs, class_names):\n",
    "    \"\"\"\n",
    "    This functions shows for each image sample:\n",
    "    - the original image\n",
    "    - the adversarial image\n",
    "    - the difference map\n",
    "    - the certificate and the observed distance to adversarial\n",
    "    \"\"\"\n",
    "    scale = 1.5\n",
    "    nb_imgs = images.shape[0]\n",
    "\n",
    "    # Compute certificates\n",
    "    values, _ = model(images).topk(k=2)\n",
    "    certificates = (values[:, 0] - values[:, 1]) / np.sqrt(2)\n",
    "\n",
    "    # Compute distance between image and its adversarial\n",
    "    dist_to_adv = (images - advs).square().sum(dim=(1, 2, 3)).sqrt()\n",
    "\n",
    "    # Find predicted classes for images and their adversarials\n",
    "    orig_classes = [class_names[i] for i in model(images).argmax(dim=-1)]\n",
    "    advs_classes = [class_names[i] for i in model(advs).argmax(dim=-1)]\n",
    "\n",
    "    # Compute difference maps\n",
    "    advs = advs.detach().cpu()\n",
    "    images = images.detach().cpu()\n",
    "    diff_pos = np.clip(advs - images, 0, 1.0)\n",
    "    diff_neg = np.clip(images - advs, 0, 1.0)\n",
    "    diff_map = np.concatenate(\n",
    "        [diff_neg, diff_pos, np.zeros_like(diff_neg)], axis=1\n",
    "    ).transpose((0, 2, 3, 1))\n",
    "\n",
    "    # Create plot\n",
    "    def _set_ax(ax, title):\n",
    "        ax.set_title(title)\n",
    "        ax.set_xticks([])\n",
    "        ax.set_yticks([])\n",
    "        ax.axis(\"off\")\n",
    "\n",
    "    figsize = (3 * scale, nb_imgs * scale)\n",
    "    _, axes = plt.subplots(\n",
    "        ncols=3, nrows=nb_imgs, figsize=figsize, squeeze=False, constrained_layout=True\n",
    "    )\n",
    "    for i in range(nb_imgs):\n",
    "        _set_ax(axes[i][0], orig_classes[i])\n",
    "        axes[i][0].imshow(images[i].squeeze(), cmap=\"gray\")\n",
    "        _set_ax(axes[i][1], advs_classes[i])\n",
    "        axes[i][1].imshow(advs[i].squeeze(), cmap=\"gray\")\n",
    "        _set_ax(axes[i][2], f\"certif: {certificates[i]:.2f}, obs: {dist_to_adv[i]:.2f}\")\n",
    "        axes[i][2].imshow(diff_map[i] / diff_map[i].max())\n",
    "\n",
    "\n",
    "adversarial_viz(vanilla_model, images, advs, test_set.classes)\n"
   ]
  }
 ],
 "metadata": {
  "kernelspec": {
   "display_name": "Python 3",
   "language": "python",
   "name": "python3"
  },
  "language_info": {
   "codemirror_mode": {
    "name": "ipython",
    "version": 3
   },
   "file_extension": ".py",
   "mimetype": "text/x-python",
   "name": "python",
   "nbconvert_exporter": "python",
   "pygments_lexer": "ipython3",
   "version": "3.7.7"
  }
 },
 "nbformat": 4,
 "nbformat_minor": 4
}
