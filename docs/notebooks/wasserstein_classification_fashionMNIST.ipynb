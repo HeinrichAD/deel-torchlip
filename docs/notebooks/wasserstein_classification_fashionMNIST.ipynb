{
 "cells": [
  {
   "cell_type": "markdown",
   "metadata": {},
   "source": [
    "# Example 4: HKR multiclass and fooling\n",
    "\n",
    "This notebook will show how to train a Lispchitz network in a multiclass configuration.\n",
    "The HKR (hinge-Kantorovich-Rubinstein) loss is extended to multiclass using a one-vs all\n",
    "setup. The notebook will go through the process of designing and training the network.\n",
    "It will also show how to compute robustness certificates from the outputs of the\n",
    "network. Finally the guarantee of these certificates will be checked by attacking the\n",
    "network.\n"
   ]
  },
  {
   "cell_type": "markdown",
   "metadata": {},
   "source": [
    "## 1. Data preparation\n",
    "\n",
    "For this example, the `fashion_mnist` dataset is used. In order to keep things simple,\n",
    "no data augmentation is performed.\n"
   ]
  },
  {
   "cell_type": "code",
   "execution_count": 1,
   "metadata": {},
   "outputs": [],
   "source": [
    "import torch\n",
    "from torchvision import datasets, transforms\n",
    "\n",
    "train_set = datasets.FashionMNIST(\n",
    "    root=\"./data\",\n",
    "    download=True,\n",
    "    train=True,\n",
    "    transform=transforms.ToTensor(),\n",
    ")\n",
    "\n",
    "test_set = datasets.FashionMNIST(\n",
    "    root=\"./data\",\n",
    "    download=True,\n",
    "    train=False,\n",
    "    transform=transforms.ToTensor(),\n",
    ")\n",
    "\n",
    "batch_size = 4096\n",
    "train_loader = torch.utils.data.DataLoader(train_set, batch_size, shuffle=True)\n",
    "test_loader = torch.utils.data.DataLoader(test_set, batch_size)\n"
   ]
  },
  {
   "cell_type": "markdown",
   "metadata": {},
   "source": [
    "## 2. Model architecture\n",
    "\n",
    "The original one-vs-all setup would require 10 different networks (1 per class).\n",
    "However, we use in practice a network with a common body and a Lipschitz head (linear\n",
    "layer) containing 10 output neurons, like any standard network for multiclass\n",
    "classification. Note that each head neuron is not a 1-Lipschitz function; however the\n",
    "overall head with the 10 outputs is 1-Lipschitz.\n",
    "\n",
    "#### Notes about constraint enforcement\n",
    "\n",
    "There are currently 3 ways to enforce the Lipschitz constraint in a network:\n",
    "\n",
    "1. weight regularization\n",
    "2. weight reparametrization\n",
    "3. weight projection\n",
    "\n",
    "Weight regularization doesn’t provide the required guarantees as it is only a\n",
    "regularization term. Weight reparametrization is available in `torchlip` and is done\n",
    "directly in the layers (parameter `niter_bjorck`). This trick allows to perform\n",
    "arbitrary gradient updates without breaking the constraint. However this is done in the\n",
    "graph, increasing resources consumption. Weight projection is not implemented in\n",
    "`torchlip`.\n"
   ]
  },
  {
   "cell_type": "code",
   "execution_count": 2,
   "metadata": {},
   "outputs": [
    {
     "name": "stderr",
     "output_type": "stream",
     "text": [
      "Sequential model contains a layer which is not a Lipschitz layer: Flatten(start_dim=1, end_dim=-1)\n"
     ]
    },
    {
     "data": {
      "text/plain": [
       "Sequential(\n",
       "  (0): SpectralConv2d(1, 16, kernel_size=(3, 3), stride=(1, 1), padding=same)\n",
       "  (1): GroupSort2()\n",
       "  (2): ScaledL2NormPool2d(kernel_size=(2, 2), stride=(2, 2), padding=0)\n",
       "  (3): SpectralConv2d(16, 32, kernel_size=(3, 3), stride=(1, 1), padding=same)\n",
       "  (4): GroupSort2()\n",
       "  (5): ScaledL2NormPool2d(kernel_size=(2, 2), stride=(2, 2), padding=0)\n",
       "  (6): Flatten(start_dim=1, end_dim=-1)\n",
       "  (7): SpectralLinear(in_features=1568, out_features=64, bias=True)\n",
       "  (8): GroupSort2()\n",
       "  (9): SpectralLinear(in_features=64, out_features=10, bias=False)\n",
       ")"
      ]
     },
     "execution_count": 2,
     "metadata": {},
     "output_type": "execute_result"
    }
   ],
   "source": [
    "from deel import torchlip\n",
    "\n",
    "# Sequential has the same properties as any Lipschitz layer. It only acts as a\n",
    "# container, with features specific to Lipschitz functions (condensation,\n",
    "# vanilla_exportation, ...)\n",
    "model = torchlip.Sequential(\n",
    "    # Lipschitz layers preserve the API of their superclass (here Conv2d). An optional\n",
    "    # argument is available, k_coef_lip, which controls the Lipschitz constant of the\n",
    "    # layer\n",
    "    torchlip.SpectralConv2d(\n",
    "        in_channels=1, out_channels=16, kernel_size=(3, 3), padding=\"same\"\n",
    "    ),\n",
    "    torchlip.GroupSort2(),\n",
    "    # Usual pooling layer are implemented (avg, max), but new pooling layers are also\n",
    "    # available\n",
    "    torchlip.ScaledL2NormPool2d(kernel_size=(2, 2)),\n",
    "    torchlip.SpectralConv2d(\n",
    "        in_channels=16, out_channels=32, kernel_size=(3, 3), padding=\"same\"\n",
    "    ),\n",
    "    torchlip.GroupSort2(),\n",
    "    torchlip.ScaledL2NormPool2d(kernel_size=(2, 2)),\n",
    "    # Our layers are fully interoperable with existing PyTorch layers\n",
    "    torch.nn.Flatten(),\n",
    "    torchlip.SpectralLinear(1568, 64),\n",
    "    torchlip.GroupSort2(),\n",
    "    torchlip.SpectralLinear(64, 10, bias=False),\n",
    "    # Similarly, model has a parameter to set the Lipschitz constant that automatically\n",
    "    # sets the constant of each layer.\n",
    "    k_coef_lip=1.0,\n",
    ")\n",
    "\n",
    "device = torch.device(\"cuda\" if torch.cuda.is_available() else \"cpu\")\n",
    "model.to(device)\n"
   ]
  },
  {
   "cell_type": "markdown",
   "metadata": {},
   "source": [
    "## 3. HKR loss and training\n",
    "\n",
    "The multiclass HKR loss can be found in the `hkr_multiclass_loss` function or in the\n",
    "`HKRMulticlassLoss` class. The loss has two parameters: `alpha` and `min_margin`.\n",
    "Decreasing `alpha` and increasing `min_margin` improve robustness (at the cost of\n",
    "accuracy). Note also in the case of Lipschitz networks, more robustness requires more\n",
    "parameters. For more information, see [our paper](https://arxiv.org/abs/2006.06520).\n",
    "\n",
    "In this setup, choosing `alpha=100` and `min_margin=.25` provides good robustness\n",
    "without hurting the accuracy too much.\n",
    "\n",
    "Finally the `kr_multiclass_loss` gives an indication on the robustness of the network\n",
    "(proxy of the average certificate).\n"
   ]
  },
  {
   "cell_type": "code",
   "execution_count": 3,
   "metadata": {},
   "outputs": [
    {
     "name": "stdout",
     "output_type": "stream",
     "text": [
      "Epoch 1/100\n"
     ]
    },
    {
     "name": "stderr",
     "output_type": "stream",
     "text": [
      "100%|██████████| 15/15 [00:05<00:00,  2.64it/s, loss=27.9053, acc=0.2557, kr=0.1011, val_loss=26.8123, val_acc=0.4269, val_kr=0.2240]\n"
     ]
    },
    {
     "name": "stdout",
     "output_type": "stream",
     "text": [
      "Epoch 2/100\n"
     ]
    },
    {
     "name": "stderr",
     "output_type": "stream",
     "text": [
      "100%|██████████| 15/15 [00:05<00:00,  2.62it/s, loss=18.3938, acc=0.5378, kr=0.3100, val_loss=18.2005, val_acc=0.5628, val_kr=0.3963]\n"
     ]
    },
    {
     "name": "stdout",
     "output_type": "stream",
     "text": [
      "Epoch 3/100\n"
     ]
    },
    {
     "name": "stderr",
     "output_type": "stream",
     "text": [
      "100%|██████████| 15/15 [00:05<00:00,  2.68it/s, loss=15.2855, acc=0.5831, kr=0.4586, val_loss=15.1844, val_acc=0.6237, val_kr=0.5140]\n"
     ]
    },
    {
     "name": "stdout",
     "output_type": "stream",
     "text": [
      "Epoch 4/100\n"
     ]
    },
    {
     "name": "stderr",
     "output_type": "stream",
     "text": [
      "100%|██████████| 15/15 [00:05<00:00,  2.71it/s, loss=13.5454, acc=0.6476, kr=0.5549, val_loss=13.4284, val_acc=0.6416, val_kr=0.5906]\n"
     ]
    },
    {
     "name": "stdout",
     "output_type": "stream",
     "text": [
      "Epoch 5/100\n"
     ]
    },
    {
     "name": "stderr",
     "output_type": "stream",
     "text": [
      "100%|██████████| 15/15 [00:05<00:00,  2.63it/s, loss=11.8572, acc=0.6734, kr=0.6205, val_loss=12.2387, val_acc=0.6712, val_kr=0.6438]\n"
     ]
    },
    {
     "name": "stdout",
     "output_type": "stream",
     "text": [
      "Epoch 6/100\n"
     ]
    },
    {
     "name": "stderr",
     "output_type": "stream",
     "text": [
      "100%|██████████| 15/15 [00:05<00:00,  2.62it/s, loss=11.5516, acc=0.6893, kr=0.6682, val_loss=11.4678, val_acc=0.6905, val_kr=0.6875]\n"
     ]
    },
    {
     "name": "stdout",
     "output_type": "stream",
     "text": [
      "Epoch 7/100\n"
     ]
    },
    {
     "name": "stderr",
     "output_type": "stream",
     "text": [
      "100%|██████████| 15/15 [00:05<00:00,  2.63it/s, loss=10.6917, acc=0.7074, kr=0.7092, val_loss=10.9402, val_acc=0.7042, val_kr=0.7230]\n"
     ]
    },
    {
     "name": "stdout",
     "output_type": "stream",
     "text": [
      "Epoch 8/100\n"
     ]
    },
    {
     "name": "stderr",
     "output_type": "stream",
     "text": [
      "100%|██████████| 15/15 [00:05<00:00,  2.63it/s, loss=10.3548, acc=0.7178, kr=0.7433, val_loss=10.5053, val_acc=0.7154, val_kr=0.7547]\n"
     ]
    },
    {
     "name": "stdout",
     "output_type": "stream",
     "text": [
      "Epoch 9/100\n"
     ]
    },
    {
     "name": "stderr",
     "output_type": "stream",
     "text": [
      "100%|██████████| 15/15 [00:05<00:00,  2.62it/s, loss=10.2293, acc=0.7296, kr=0.7720, val_loss=10.1595, val_acc=0.7224, val_kr=0.7814]\n"
     ]
    },
    {
     "name": "stdout",
     "output_type": "stream",
     "text": [
      "Epoch 10/100\n"
     ]
    },
    {
     "name": "stderr",
     "output_type": "stream",
     "text": [
      "100%|██████████| 15/15 [00:05<00:00,  2.64it/s, loss=9.5942, acc=0.7368, kr=0.7986, val_loss=9.8499, val_acc=0.7270, val_kr=0.8068]\n"
     ]
    },
    {
     "name": "stdout",
     "output_type": "stream",
     "text": [
      "Epoch 11/100\n"
     ]
    },
    {
     "name": "stderr",
     "output_type": "stream",
     "text": [
      "100%|██████████| 15/15 [00:05<00:00,  2.65it/s, loss=9.6996, acc=0.7408, kr=0.8217, val_loss=9.5842, val_acc=0.7404, val_kr=0.8276]\n"
     ]
    },
    {
     "name": "stdout",
     "output_type": "stream",
     "text": [
      "Epoch 12/100\n"
     ]
    },
    {
     "name": "stderr",
     "output_type": "stream",
     "text": [
      "100%|██████████| 15/15 [00:05<00:00,  2.63it/s, loss=9.4562, acc=0.7471, kr=0.8434, val_loss=9.3314, val_acc=0.7445, val_kr=0.8488]\n"
     ]
    },
    {
     "name": "stdout",
     "output_type": "stream",
     "text": [
      "Epoch 13/100\n"
     ]
    },
    {
     "name": "stderr",
     "output_type": "stream",
     "text": [
      "100%|██████████| 15/15 [00:05<00:00,  2.62it/s, loss=9.1853, acc=0.7512, kr=0.8641, val_loss=9.0948, val_acc=0.7449, val_kr=0.8683]\n"
     ]
    },
    {
     "name": "stdout",
     "output_type": "stream",
     "text": [
      "Epoch 14/100\n"
     ]
    },
    {
     "name": "stderr",
     "output_type": "stream",
     "text": [
      "100%|██████████| 15/15 [00:05<00:00,  2.67it/s, loss=9.1501, acc=0.7552, kr=0.8833, val_loss=8.8880, val_acc=0.7480, val_kr=0.8888]\n"
     ]
    },
    {
     "name": "stdout",
     "output_type": "stream",
     "text": [
      "Epoch 15/100\n"
     ]
    },
    {
     "name": "stderr",
     "output_type": "stream",
     "text": [
      "100%|██████████| 15/15 [00:05<00:00,  2.65it/s, loss=8.8246, acc=0.7590, kr=0.9023, val_loss=8.6885, val_acc=0.7563, val_kr=0.9054]\n"
     ]
    },
    {
     "name": "stdout",
     "output_type": "stream",
     "text": [
      "Epoch 16/100\n"
     ]
    },
    {
     "name": "stderr",
     "output_type": "stream",
     "text": [
      "100%|██████████| 15/15 [00:05<00:00,  2.61it/s, loss=8.3357, acc=0.7642, kr=0.9203, val_loss=8.5200, val_acc=0.7595, val_kr=0.9221]\n"
     ]
    },
    {
     "name": "stdout",
     "output_type": "stream",
     "text": [
      "Epoch 17/100\n"
     ]
    },
    {
     "name": "stderr",
     "output_type": "stream",
     "text": [
      "100%|██████████| 15/15 [00:05<00:00,  2.61it/s, loss=7.6831, acc=0.7671, kr=0.9395, val_loss=8.3422, val_acc=0.7623, val_kr=0.9420]\n"
     ]
    },
    {
     "name": "stdout",
     "output_type": "stream",
     "text": [
      "Epoch 18/100\n"
     ]
    },
    {
     "name": "stderr",
     "output_type": "stream",
     "text": [
      "100%|██████████| 15/15 [00:05<00:00,  2.65it/s, loss=8.1004, acc=0.7689, kr=0.9567, val_loss=8.2337, val_acc=0.7597, val_kr=0.9595]\n"
     ]
    },
    {
     "name": "stdout",
     "output_type": "stream",
     "text": [
      "Epoch 19/100\n"
     ]
    },
    {
     "name": "stderr",
     "output_type": "stream",
     "text": [
      "100%|██████████| 15/15 [00:05<00:00,  2.61it/s, loss=7.8247, acc=0.7719, kr=0.9736, val_loss=8.0462, val_acc=0.7636, val_kr=0.9760]\n"
     ]
    },
    {
     "name": "stdout",
     "output_type": "stream",
     "text": [
      "Epoch 20/100\n"
     ]
    },
    {
     "name": "stderr",
     "output_type": "stream",
     "text": [
      "100%|██████████| 15/15 [00:05<00:00,  2.64it/s, loss=7.3246, acc=0.7741, kr=0.9919, val_loss=7.9014, val_acc=0.7714, val_kr=0.9932]\n"
     ]
    },
    {
     "name": "stdout",
     "output_type": "stream",
     "text": [
      "Epoch 21/100\n"
     ]
    },
    {
     "name": "stderr",
     "output_type": "stream",
     "text": [
      "100%|██████████| 15/15 [00:05<00:00,  2.61it/s, loss=7.8122, acc=0.7775, kr=1.0082, val_loss=7.7668, val_acc=0.7679, val_kr=1.0097]\n"
     ]
    },
    {
     "name": "stdout",
     "output_type": "stream",
     "text": [
      "Epoch 22/100\n"
     ]
    },
    {
     "name": "stderr",
     "output_type": "stream",
     "text": [
      "100%|██████████| 15/15 [00:05<00:00,  2.62it/s, loss=7.3920, acc=0.7791, kr=1.0248, val_loss=7.6657, val_acc=0.7712, val_kr=1.0263]\n"
     ]
    },
    {
     "name": "stdout",
     "output_type": "stream",
     "text": [
      "Epoch 23/100\n"
     ]
    },
    {
     "name": "stderr",
     "output_type": "stream",
     "text": [
      "100%|██████████| 15/15 [00:05<00:00,  2.62it/s, loss=7.2355, acc=0.7827, kr=1.0416, val_loss=7.5203, val_acc=0.7756, val_kr=1.0423]\n"
     ]
    },
    {
     "name": "stdout",
     "output_type": "stream",
     "text": [
      "Epoch 24/100\n"
     ]
    },
    {
     "name": "stderr",
     "output_type": "stream",
     "text": [
      "100%|██████████| 15/15 [00:05<00:00,  2.63it/s, loss=7.0905, acc=0.7843, kr=1.0581, val_loss=7.4189, val_acc=0.7782, val_kr=1.0587]\n"
     ]
    },
    {
     "name": "stdout",
     "output_type": "stream",
     "text": [
      "Epoch 25/100\n"
     ]
    },
    {
     "name": "stderr",
     "output_type": "stream",
     "text": [
      "100%|██████████| 15/15 [00:05<00:00,  2.64it/s, loss=7.1967, acc=0.7870, kr=1.0744, val_loss=7.3216, val_acc=0.7807, val_kr=1.0770]\n"
     ]
    },
    {
     "name": "stdout",
     "output_type": "stream",
     "text": [
      "Epoch 26/100\n"
     ]
    },
    {
     "name": "stderr",
     "output_type": "stream",
     "text": [
      "100%|██████████| 15/15 [00:05<00:00,  2.65it/s, loss=7.1685, acc=0.7887, kr=1.0905, val_loss=7.2668, val_acc=0.7775, val_kr=1.0905]\n"
     ]
    },
    {
     "name": "stdout",
     "output_type": "stream",
     "text": [
      "Epoch 27/100\n"
     ]
    },
    {
     "name": "stderr",
     "output_type": "stream",
     "text": [
      "100%|██████████| 15/15 [00:05<00:00,  2.65it/s, loss=6.9343, acc=0.7886, kr=1.1043, val_loss=7.1491, val_acc=0.7830, val_kr=1.1035]\n"
     ]
    },
    {
     "name": "stdout",
     "output_type": "stream",
     "text": [
      "Epoch 28/100\n"
     ]
    },
    {
     "name": "stderr",
     "output_type": "stream",
     "text": [
      "100%|██████████| 15/15 [00:05<00:00,  2.64it/s, loss=6.7449, acc=0.7924, kr=1.1197, val_loss=7.1061, val_acc=0.7861, val_kr=1.1159]\n"
     ]
    },
    {
     "name": "stdout",
     "output_type": "stream",
     "text": [
      "Epoch 29/100\n"
     ]
    },
    {
     "name": "stderr",
     "output_type": "stream",
     "text": [
      "100%|██████████| 15/15 [00:05<00:00,  2.59it/s, loss=7.0386, acc=0.7940, kr=1.1336, val_loss=6.9834, val_acc=0.7879, val_kr=1.1359]\n"
     ]
    },
    {
     "name": "stdout",
     "output_type": "stream",
     "text": [
      "Epoch 30/100\n"
     ]
    },
    {
     "name": "stderr",
     "output_type": "stream",
     "text": [
      "100%|██████████| 15/15 [00:05<00:00,  2.61it/s, loss=6.8781, acc=0.7962, kr=1.1485, val_loss=6.8890, val_acc=0.7863, val_kr=1.1469]\n"
     ]
    },
    {
     "name": "stdout",
     "output_type": "stream",
     "text": [
      "Epoch 31/100\n"
     ]
    },
    {
     "name": "stderr",
     "output_type": "stream",
     "text": [
      "100%|██████████| 15/15 [00:05<00:00,  2.61it/s, loss=6.2661, acc=0.7977, kr=1.1625, val_loss=6.8213, val_acc=0.7899, val_kr=1.1620]\n"
     ]
    },
    {
     "name": "stdout",
     "output_type": "stream",
     "text": [
      "Epoch 32/100\n"
     ]
    },
    {
     "name": "stderr",
     "output_type": "stream",
     "text": [
      "100%|██████████| 15/15 [00:05<00:00,  2.65it/s, loss=6.5269, acc=0.7999, kr=1.1769, val_loss=6.7408, val_acc=0.7906, val_kr=1.1756]\n"
     ]
    },
    {
     "name": "stdout",
     "output_type": "stream",
     "text": [
      "Epoch 33/100\n"
     ]
    },
    {
     "name": "stderr",
     "output_type": "stream",
     "text": [
      "100%|██████████| 15/15 [00:05<00:00,  2.67it/s, loss=6.2359, acc=0.8008, kr=1.1897, val_loss=6.6683, val_acc=0.7923, val_kr=1.1894]\n"
     ]
    },
    {
     "name": "stdout",
     "output_type": "stream",
     "text": [
      "Epoch 34/100\n"
     ]
    },
    {
     "name": "stderr",
     "output_type": "stream",
     "text": [
      "100%|██████████| 15/15 [00:05<00:00,  2.62it/s, loss=6.2105, acc=0.8041, kr=1.2015, val_loss=6.6200, val_acc=0.7952, val_kr=1.1993]\n"
     ]
    },
    {
     "name": "stdout",
     "output_type": "stream",
     "text": [
      "Epoch 35/100\n"
     ]
    },
    {
     "name": "stderr",
     "output_type": "stream",
     "text": [
      "100%|██████████| 15/15 [00:05<00:00,  2.63it/s, loss=6.1819, acc=0.8042, kr=1.2138, val_loss=6.5353, val_acc=0.7959, val_kr=1.2112]\n"
     ]
    },
    {
     "name": "stdout",
     "output_type": "stream",
     "text": [
      "Epoch 36/100\n"
     ]
    },
    {
     "name": "stderr",
     "output_type": "stream",
     "text": [
      "100%|██████████| 15/15 [00:05<00:00,  2.59it/s, loss=6.1579, acc=0.8062, kr=1.2274, val_loss=6.4767, val_acc=0.7993, val_kr=1.2250]\n"
     ]
    },
    {
     "name": "stdout",
     "output_type": "stream",
     "text": [
      "Epoch 37/100\n"
     ]
    },
    {
     "name": "stderr",
     "output_type": "stream",
     "text": [
      "100%|██████████| 15/15 [00:05<00:00,  2.62it/s, loss=5.9877, acc=0.8070, kr=1.2413, val_loss=6.4325, val_acc=0.7979, val_kr=1.2386]\n"
     ]
    },
    {
     "name": "stdout",
     "output_type": "stream",
     "text": [
      "Epoch 38/100\n"
     ]
    },
    {
     "name": "stderr",
     "output_type": "stream",
     "text": [
      "100%|██████████| 15/15 [00:05<00:00,  2.58it/s, loss=6.2694, acc=0.8073, kr=1.2517, val_loss=6.3603, val_acc=0.7996, val_kr=1.2518]\n"
     ]
    },
    {
     "name": "stdout",
     "output_type": "stream",
     "text": [
      "Epoch 39/100\n"
     ]
    },
    {
     "name": "stderr",
     "output_type": "stream",
     "text": [
      "100%|██████████| 15/15 [00:05<00:00,  2.61it/s, loss=6.0872, acc=0.8089, kr=1.2657, val_loss=6.2988, val_acc=0.8007, val_kr=1.2633]\n"
     ]
    },
    {
     "name": "stdout",
     "output_type": "stream",
     "text": [
      "Epoch 40/100\n"
     ]
    },
    {
     "name": "stderr",
     "output_type": "stream",
     "text": [
      "100%|██████████| 15/15 [00:05<00:00,  2.65it/s, loss=6.1736, acc=0.8104, kr=1.2793, val_loss=6.2442, val_acc=0.8006, val_kr=1.2755]\n"
     ]
    },
    {
     "name": "stdout",
     "output_type": "stream",
     "text": [
      "Epoch 41/100\n"
     ]
    },
    {
     "name": "stderr",
     "output_type": "stream",
     "text": [
      "100%|██████████| 15/15 [00:05<00:00,  2.64it/s, loss=5.9698, acc=0.8116, kr=1.2908, val_loss=6.1964, val_acc=0.8022, val_kr=1.2886]\n"
     ]
    },
    {
     "name": "stdout",
     "output_type": "stream",
     "text": [
      "Epoch 42/100\n"
     ]
    },
    {
     "name": "stderr",
     "output_type": "stream",
     "text": [
      "100%|██████████| 15/15 [00:05<00:00,  2.70it/s, loss=5.7464, acc=0.8131, kr=1.3012, val_loss=6.1482, val_acc=0.8021, val_kr=1.2996]\n"
     ]
    },
    {
     "name": "stdout",
     "output_type": "stream",
     "text": [
      "Epoch 43/100\n"
     ]
    },
    {
     "name": "stderr",
     "output_type": "stream",
     "text": [
      "100%|██████████| 15/15 [00:05<00:00,  2.66it/s, loss=5.6037, acc=0.8142, kr=1.3142, val_loss=6.1028, val_acc=0.8049, val_kr=1.3090]\n"
     ]
    },
    {
     "name": "stdout",
     "output_type": "stream",
     "text": [
      "Epoch 44/100\n"
     ]
    },
    {
     "name": "stderr",
     "output_type": "stream",
     "text": [
      "100%|██████████| 15/15 [00:05<00:00,  2.65it/s, loss=5.5076, acc=0.8157, kr=1.3244, val_loss=6.0496, val_acc=0.8044, val_kr=1.3217]\n"
     ]
    },
    {
     "name": "stdout",
     "output_type": "stream",
     "text": [
      "Epoch 45/100\n"
     ]
    },
    {
     "name": "stderr",
     "output_type": "stream",
     "text": [
      "100%|██████████| 15/15 [00:05<00:00,  2.63it/s, loss=5.4021, acc=0.8166, kr=1.3357, val_loss=6.0041, val_acc=0.8065, val_kr=1.3331]\n"
     ]
    },
    {
     "name": "stdout",
     "output_type": "stream",
     "text": [
      "Epoch 46/100\n"
     ]
    },
    {
     "name": "stderr",
     "output_type": "stream",
     "text": [
      "100%|██████████| 15/15 [00:05<00:00,  2.60it/s, loss=5.4801, acc=0.8165, kr=1.3478, val_loss=5.9806, val_acc=0.8078, val_kr=1.3433]\n"
     ]
    },
    {
     "name": "stdout",
     "output_type": "stream",
     "text": [
      "Epoch 47/100\n"
     ]
    },
    {
     "name": "stderr",
     "output_type": "stream",
     "text": [
      "100%|██████████| 15/15 [00:05<00:00,  2.60it/s, loss=5.5588, acc=0.8176, kr=1.3599, val_loss=5.9826, val_acc=0.8101, val_kr=1.3616]\n"
     ]
    },
    {
     "name": "stdout",
     "output_type": "stream",
     "text": [
      "Epoch 48/100\n"
     ]
    },
    {
     "name": "stderr",
     "output_type": "stream",
     "text": [
      "100%|██████████| 15/15 [00:05<00:00,  2.61it/s, loss=5.6038, acc=0.8183, kr=1.3696, val_loss=5.8773, val_acc=0.8091, val_kr=1.3674]\n"
     ]
    },
    {
     "name": "stdout",
     "output_type": "stream",
     "text": [
      "Epoch 49/100\n"
     ]
    },
    {
     "name": "stderr",
     "output_type": "stream",
     "text": [
      "100%|██████████| 15/15 [00:05<00:00,  2.59it/s, loss=5.6193, acc=0.8192, kr=1.3811, val_loss=5.8758, val_acc=0.8098, val_kr=1.3718]\n"
     ]
    },
    {
     "name": "stdout",
     "output_type": "stream",
     "text": [
      "Epoch 50/100\n"
     ]
    },
    {
     "name": "stderr",
     "output_type": "stream",
     "text": [
      "100%|██████████| 15/15 [00:05<00:00,  2.67it/s, loss=5.1343, acc=0.8196, kr=1.3908, val_loss=5.7972, val_acc=0.8107, val_kr=1.3864]\n"
     ]
    },
    {
     "name": "stdout",
     "output_type": "stream",
     "text": [
      "Epoch 51/100\n"
     ]
    },
    {
     "name": "stderr",
     "output_type": "stream",
     "text": [
      "100%|██████████| 15/15 [00:05<00:00,  2.61it/s, loss=5.3036, acc=0.8210, kr=1.4039, val_loss=5.7633, val_acc=0.8105, val_kr=1.3985]\n"
     ]
    },
    {
     "name": "stdout",
     "output_type": "stream",
     "text": [
      "Epoch 52/100\n"
     ]
    },
    {
     "name": "stderr",
     "output_type": "stream",
     "text": [
      "100%|██████████| 15/15 [00:05<00:00,  2.65it/s, loss=5.9980, acc=0.8214, kr=1.4097, val_loss=5.7222, val_acc=0.8116, val_kr=1.4054]\n"
     ]
    },
    {
     "name": "stdout",
     "output_type": "stream",
     "text": [
      "Epoch 53/100\n"
     ]
    },
    {
     "name": "stderr",
     "output_type": "stream",
     "text": [
      "100%|██████████| 15/15 [00:05<00:00,  2.60it/s, loss=5.3724, acc=0.8223, kr=1.4204, val_loss=5.6895, val_acc=0.8141, val_kr=1.4188]\n"
     ]
    },
    {
     "name": "stdout",
     "output_type": "stream",
     "text": [
      "Epoch 54/100\n"
     ]
    },
    {
     "name": "stderr",
     "output_type": "stream",
     "text": [
      "100%|██████████| 15/15 [00:05<00:00,  2.61it/s, loss=5.2307, acc=0.8232, kr=1.4309, val_loss=5.6587, val_acc=0.8130, val_kr=1.4260]\n"
     ]
    },
    {
     "name": "stdout",
     "output_type": "stream",
     "text": [
      "Epoch 55/100\n"
     ]
    },
    {
     "name": "stderr",
     "output_type": "stream",
     "text": [
      "100%|██████████| 15/15 [00:05<00:00,  2.62it/s, loss=4.8969, acc=0.8247, kr=1.4425, val_loss=5.6218, val_acc=0.8150, val_kr=1.4373]\n"
     ]
    },
    {
     "name": "stdout",
     "output_type": "stream",
     "text": [
      "Epoch 56/100\n"
     ]
    },
    {
     "name": "stderr",
     "output_type": "stream",
     "text": [
      "100%|██████████| 15/15 [00:05<00:00,  2.66it/s, loss=4.9825, acc=0.8250, kr=1.4508, val_loss=5.5871, val_acc=0.8157, val_kr=1.4475]\n"
     ]
    },
    {
     "name": "stdout",
     "output_type": "stream",
     "text": [
      "Epoch 57/100\n"
     ]
    },
    {
     "name": "stderr",
     "output_type": "stream",
     "text": [
      "100%|██████████| 15/15 [00:05<00:00,  2.67it/s, loss=5.4862, acc=0.8259, kr=1.4609, val_loss=5.5659, val_acc=0.8146, val_kr=1.4577]\n"
     ]
    },
    {
     "name": "stdout",
     "output_type": "stream",
     "text": [
      "Epoch 58/100\n"
     ]
    },
    {
     "name": "stderr",
     "output_type": "stream",
     "text": [
      "100%|██████████| 15/15 [00:05<00:00,  2.68it/s, loss=5.3497, acc=0.8253, kr=1.4720, val_loss=5.5283, val_acc=0.8157, val_kr=1.4681]\n"
     ]
    },
    {
     "name": "stdout",
     "output_type": "stream",
     "text": [
      "Epoch 59/100\n"
     ]
    },
    {
     "name": "stderr",
     "output_type": "stream",
     "text": [
      "100%|██████████| 15/15 [00:05<00:00,  2.63it/s, loss=5.4070, acc=0.8263, kr=1.4792, val_loss=5.4773, val_acc=0.8185, val_kr=1.4755]\n"
     ]
    },
    {
     "name": "stdout",
     "output_type": "stream",
     "text": [
      "Epoch 60/100\n"
     ]
    },
    {
     "name": "stderr",
     "output_type": "stream",
     "text": [
      "100%|██████████| 15/15 [00:05<00:00,  2.64it/s, loss=5.2457, acc=0.8273, kr=1.4883, val_loss=5.4546, val_acc=0.8170, val_kr=1.4850]\n"
     ]
    },
    {
     "name": "stdout",
     "output_type": "stream",
     "text": [
      "Epoch 61/100\n"
     ]
    },
    {
     "name": "stderr",
     "output_type": "stream",
     "text": [
      "100%|██████████| 15/15 [00:05<00:00,  2.65it/s, loss=4.9585, acc=0.8290, kr=1.4983, val_loss=5.4507, val_acc=0.8193, val_kr=1.4928]\n"
     ]
    },
    {
     "name": "stdout",
     "output_type": "stream",
     "text": [
      "Epoch 62/100\n"
     ]
    },
    {
     "name": "stderr",
     "output_type": "stream",
     "text": [
      "100%|██████████| 15/15 [00:05<00:00,  2.68it/s, loss=5.1407, acc=0.8284, kr=1.5079, val_loss=5.3970, val_acc=0.8210, val_kr=1.5009]\n"
     ]
    },
    {
     "name": "stdout",
     "output_type": "stream",
     "text": [
      "Epoch 63/100\n"
     ]
    },
    {
     "name": "stderr",
     "output_type": "stream",
     "text": [
      "100%|██████████| 15/15 [00:05<00:00,  2.62it/s, loss=4.9770, acc=0.8297, kr=1.5141, val_loss=5.3730, val_acc=0.8201, val_kr=1.5098]\n"
     ]
    },
    {
     "name": "stdout",
     "output_type": "stream",
     "text": [
      "Epoch 64/100\n"
     ]
    },
    {
     "name": "stderr",
     "output_type": "stream",
     "text": [
      "100%|██████████| 15/15 [00:05<00:00,  2.65it/s, loss=4.9742, acc=0.8299, kr=1.5238, val_loss=5.3409, val_acc=0.8224, val_kr=1.5176]\n"
     ]
    },
    {
     "name": "stdout",
     "output_type": "stream",
     "text": [
      "Epoch 65/100\n"
     ]
    },
    {
     "name": "stderr",
     "output_type": "stream",
     "text": [
      "100%|██████████| 15/15 [00:05<00:00,  2.67it/s, loss=4.7880, acc=0.8313, kr=1.5323, val_loss=5.3050, val_acc=0.8228, val_kr=1.5258]\n"
     ]
    },
    {
     "name": "stdout",
     "output_type": "stream",
     "text": [
      "Epoch 66/100\n"
     ]
    },
    {
     "name": "stderr",
     "output_type": "stream",
     "text": [
      "100%|██████████| 15/15 [00:05<00:00,  2.63it/s, loss=4.7264, acc=0.8326, kr=1.5377, val_loss=5.2828, val_acc=0.8233, val_kr=1.5339]\n"
     ]
    },
    {
     "name": "stdout",
     "output_type": "stream",
     "text": [
      "Epoch 67/100\n"
     ]
    },
    {
     "name": "stderr",
     "output_type": "stream",
     "text": [
      "100%|██████████| 15/15 [00:05<00:00,  2.63it/s, loss=4.6845, acc=0.8324, kr=1.5486, val_loss=5.2704, val_acc=0.8236, val_kr=1.5419]\n"
     ]
    },
    {
     "name": "stdout",
     "output_type": "stream",
     "text": [
      "Epoch 68/100\n"
     ]
    },
    {
     "name": "stderr",
     "output_type": "stream",
     "text": [
      "100%|██████████| 15/15 [00:05<00:00,  2.66it/s, loss=4.9551, acc=0.8317, kr=1.5560, val_loss=5.2625, val_acc=0.8212, val_kr=1.5534]\n"
     ]
    },
    {
     "name": "stdout",
     "output_type": "stream",
     "text": [
      "Epoch 69/100\n"
     ]
    },
    {
     "name": "stderr",
     "output_type": "stream",
     "text": [
      "100%|██████████| 15/15 [00:05<00:00,  2.65it/s, loss=5.1228, acc=0.8320, kr=1.5652, val_loss=5.2079, val_acc=0.8248, val_kr=1.5601]\n"
     ]
    },
    {
     "name": "stdout",
     "output_type": "stream",
     "text": [
      "Epoch 70/100\n"
     ]
    },
    {
     "name": "stderr",
     "output_type": "stream",
     "text": [
      "100%|██████████| 15/15 [00:05<00:00,  2.61it/s, loss=5.1156, acc=0.8338, kr=1.5710, val_loss=5.1895, val_acc=0.8242, val_kr=1.5655]\n"
     ]
    },
    {
     "name": "stdout",
     "output_type": "stream",
     "text": [
      "Epoch 71/100\n"
     ]
    },
    {
     "name": "stderr",
     "output_type": "stream",
     "text": [
      "100%|██████████| 15/15 [00:05<00:00,  2.59it/s, loss=4.8072, acc=0.8334, kr=1.5785, val_loss=5.1789, val_acc=0.8247, val_kr=1.5723]\n"
     ]
    },
    {
     "name": "stdout",
     "output_type": "stream",
     "text": [
      "Epoch 72/100\n"
     ]
    },
    {
     "name": "stderr",
     "output_type": "stream",
     "text": [
      "100%|██████████| 15/15 [00:05<00:00,  2.62it/s, loss=4.7692, acc=0.8350, kr=1.5867, val_loss=5.1565, val_acc=0.8261, val_kr=1.5755]\n"
     ]
    },
    {
     "name": "stdout",
     "output_type": "stream",
     "text": [
      "Epoch 73/100\n"
     ]
    },
    {
     "name": "stderr",
     "output_type": "stream",
     "text": [
      "100%|██████████| 15/15 [00:05<00:00,  2.66it/s, loss=4.6028, acc=0.8356, kr=1.5911, val_loss=5.1284, val_acc=0.8299, val_kr=1.5866]\n"
     ]
    },
    {
     "name": "stdout",
     "output_type": "stream",
     "text": [
      "Epoch 74/100\n"
     ]
    },
    {
     "name": "stderr",
     "output_type": "stream",
     "text": [
      "100%|██████████| 15/15 [00:05<00:00,  2.66it/s, loss=4.7034, acc=0.8356, kr=1.5990, val_loss=5.0926, val_acc=0.8270, val_kr=1.5916]\n"
     ]
    },
    {
     "name": "stdout",
     "output_type": "stream",
     "text": [
      "Epoch 75/100\n"
     ]
    },
    {
     "name": "stderr",
     "output_type": "stream",
     "text": [
      "100%|██████████| 15/15 [00:05<00:00,  2.65it/s, loss=4.4925, acc=0.8361, kr=1.6053, val_loss=5.1123, val_acc=0.8246, val_kr=1.6049]\n"
     ]
    },
    {
     "name": "stdout",
     "output_type": "stream",
     "text": [
      "Epoch 76/100\n"
     ]
    },
    {
     "name": "stderr",
     "output_type": "stream",
     "text": [
      "100%|██████████| 15/15 [00:05<00:00,  2.68it/s, loss=4.5543, acc=0.8361, kr=1.6140, val_loss=5.0531, val_acc=0.8300, val_kr=1.6078]\n"
     ]
    },
    {
     "name": "stdout",
     "output_type": "stream",
     "text": [
      "Epoch 77/100\n"
     ]
    },
    {
     "name": "stderr",
     "output_type": "stream",
     "text": [
      "100%|██████████| 15/15 [00:05<00:00,  2.67it/s, loss=4.5678, acc=0.8382, kr=1.6178, val_loss=5.0462, val_acc=0.8275, val_kr=1.6127]\n"
     ]
    },
    {
     "name": "stdout",
     "output_type": "stream",
     "text": [
      "Epoch 78/100\n"
     ]
    },
    {
     "name": "stderr",
     "output_type": "stream",
     "text": [
      "100%|██████████| 15/15 [00:05<00:00,  2.66it/s, loss=4.5804, acc=0.8377, kr=1.6245, val_loss=5.0240, val_acc=0.8295, val_kr=1.6171]\n"
     ]
    },
    {
     "name": "stdout",
     "output_type": "stream",
     "text": [
      "Epoch 79/100\n"
     ]
    },
    {
     "name": "stderr",
     "output_type": "stream",
     "text": [
      "100%|██████████| 15/15 [00:05<00:00,  2.66it/s, loss=4.6562, acc=0.8375, kr=1.6316, val_loss=4.9853, val_acc=0.8312, val_kr=1.6242]\n"
     ]
    },
    {
     "name": "stdout",
     "output_type": "stream",
     "text": [
      "Epoch 80/100\n"
     ]
    },
    {
     "name": "stderr",
     "output_type": "stream",
     "text": [
      "100%|██████████| 15/15 [00:05<00:00,  2.65it/s, loss=4.7529, acc=0.8383, kr=1.6376, val_loss=4.9754, val_acc=0.8341, val_kr=1.6315]\n"
     ]
    },
    {
     "name": "stdout",
     "output_type": "stream",
     "text": [
      "Epoch 81/100\n"
     ]
    },
    {
     "name": "stderr",
     "output_type": "stream",
     "text": [
      "100%|██████████| 15/15 [00:05<00:00,  2.66it/s, loss=4.5293, acc=0.8391, kr=1.6425, val_loss=4.9552, val_acc=0.8313, val_kr=1.6339]\n"
     ]
    },
    {
     "name": "stdout",
     "output_type": "stream",
     "text": [
      "Epoch 82/100\n"
     ]
    },
    {
     "name": "stderr",
     "output_type": "stream",
     "text": [
      "100%|██████████| 15/15 [00:05<00:00,  2.65it/s, loss=4.9700, acc=0.8398, kr=1.6475, val_loss=4.9443, val_acc=0.8300, val_kr=1.6408]\n"
     ]
    },
    {
     "name": "stdout",
     "output_type": "stream",
     "text": [
      "Epoch 83/100\n"
     ]
    },
    {
     "name": "stderr",
     "output_type": "stream",
     "text": [
      "100%|██████████| 15/15 [00:05<00:00,  2.68it/s, loss=4.3152, acc=0.8407, kr=1.6515, val_loss=4.9074, val_acc=0.8339, val_kr=1.6451]\n"
     ]
    },
    {
     "name": "stdout",
     "output_type": "stream",
     "text": [
      "Epoch 84/100\n"
     ]
    },
    {
     "name": "stderr",
     "output_type": "stream",
     "text": [
      "100%|██████████| 15/15 [00:05<00:00,  2.65it/s, loss=4.2705, acc=0.8415, kr=1.6570, val_loss=4.8985, val_acc=0.8314, val_kr=1.6476]\n"
     ]
    },
    {
     "name": "stdout",
     "output_type": "stream",
     "text": [
      "Epoch 85/100\n"
     ]
    },
    {
     "name": "stderr",
     "output_type": "stream",
     "text": [
      "100%|██████████| 15/15 [00:05<00:00,  2.62it/s, loss=4.4070, acc=0.8410, kr=1.6649, val_loss=4.8833, val_acc=0.8346, val_kr=1.6560]\n"
     ]
    },
    {
     "name": "stdout",
     "output_type": "stream",
     "text": [
      "Epoch 86/100\n"
     ]
    },
    {
     "name": "stderr",
     "output_type": "stream",
     "text": [
      "100%|██████████| 15/15 [00:05<00:00,  2.58it/s, loss=4.7878, acc=0.8415, kr=1.6704, val_loss=4.8464, val_acc=0.8352, val_kr=1.6639]\n"
     ]
    },
    {
     "name": "stdout",
     "output_type": "stream",
     "text": [
      "Epoch 87/100\n"
     ]
    },
    {
     "name": "stderr",
     "output_type": "stream",
     "text": [
      "100%|██████████| 15/15 [00:05<00:00,  2.61it/s, loss=4.4667, acc=0.8418, kr=1.6770, val_loss=4.8281, val_acc=0.8342, val_kr=1.6679]\n"
     ]
    },
    {
     "name": "stdout",
     "output_type": "stream",
     "text": [
      "Epoch 88/100\n"
     ]
    },
    {
     "name": "stderr",
     "output_type": "stream",
     "text": [
      "100%|██████████| 15/15 [00:05<00:00,  2.61it/s, loss=4.7787, acc=0.8424, kr=1.6803, val_loss=4.8305, val_acc=0.8347, val_kr=1.6681]\n"
     ]
    },
    {
     "name": "stdout",
     "output_type": "stream",
     "text": [
      "Epoch 89/100\n"
     ]
    },
    {
     "name": "stderr",
     "output_type": "stream",
     "text": [
      "100%|██████████| 15/15 [00:05<00:00,  2.62it/s, loss=4.4342, acc=0.8432, kr=1.6837, val_loss=4.8077, val_acc=0.8351, val_kr=1.6763]\n"
     ]
    },
    {
     "name": "stdout",
     "output_type": "stream",
     "text": [
      "Epoch 90/100\n"
     ]
    },
    {
     "name": "stderr",
     "output_type": "stream",
     "text": [
      "100%|██████████| 15/15 [00:05<00:00,  2.64it/s, loss=4.8271, acc=0.8420, kr=1.6898, val_loss=4.8431, val_acc=0.8305, val_kr=1.6855]\n"
     ]
    },
    {
     "name": "stdout",
     "output_type": "stream",
     "text": [
      "Epoch 91/100\n"
     ]
    },
    {
     "name": "stderr",
     "output_type": "stream",
     "text": [
      "100%|██████████| 15/15 [00:05<00:00,  2.61it/s, loss=4.3676, acc=0.8430, kr=1.6960, val_loss=4.8047, val_acc=0.8353, val_kr=1.6875]\n"
     ]
    },
    {
     "name": "stdout",
     "output_type": "stream",
     "text": [
      "Epoch 92/100\n"
     ]
    },
    {
     "name": "stderr",
     "output_type": "stream",
     "text": [
      "100%|██████████| 15/15 [00:05<00:00,  2.64it/s, loss=4.3570, acc=0.8445, kr=1.6986, val_loss=4.7569, val_acc=0.8358, val_kr=1.6909]\n"
     ]
    },
    {
     "name": "stdout",
     "output_type": "stream",
     "text": [
      "Epoch 93/100\n"
     ]
    },
    {
     "name": "stderr",
     "output_type": "stream",
     "text": [
      "100%|██████████| 15/15 [00:05<00:00,  2.64it/s, loss=4.2708, acc=0.8445, kr=1.7050, val_loss=4.7371, val_acc=0.8375, val_kr=1.6953]\n"
     ]
    },
    {
     "name": "stdout",
     "output_type": "stream",
     "text": [
      "Epoch 94/100\n"
     ]
    },
    {
     "name": "stderr",
     "output_type": "stream",
     "text": [
      "100%|██████████| 15/15 [00:05<00:00,  2.61it/s, loss=4.3559, acc=0.8450, kr=1.7095, val_loss=4.7002, val_acc=0.8375, val_kr=1.7015]\n"
     ]
    },
    {
     "name": "stdout",
     "output_type": "stream",
     "text": [
      "Epoch 95/100\n"
     ]
    },
    {
     "name": "stderr",
     "output_type": "stream",
     "text": [
      "100%|██████████| 15/15 [00:05<00:00,  2.66it/s, loss=4.3991, acc=0.8449, kr=1.7141, val_loss=4.7167, val_acc=0.8373, val_kr=1.7073]\n"
     ]
    },
    {
     "name": "stdout",
     "output_type": "stream",
     "text": [
      "Epoch 96/100\n"
     ]
    },
    {
     "name": "stderr",
     "output_type": "stream",
     "text": [
      "100%|██████████| 15/15 [00:05<00:00,  2.61it/s, loss=4.0390, acc=0.8446, kr=1.7191, val_loss=4.7057, val_acc=0.8367, val_kr=1.7087]\n"
     ]
    },
    {
     "name": "stdout",
     "output_type": "stream",
     "text": [
      "Epoch 97/100\n"
     ]
    },
    {
     "name": "stderr",
     "output_type": "stream",
     "text": [
      "100%|██████████| 15/15 [00:05<00:00,  2.68it/s, loss=4.4578, acc=0.8451, kr=1.7254, val_loss=4.6694, val_acc=0.8401, val_kr=1.7186]\n"
     ]
    },
    {
     "name": "stdout",
     "output_type": "stream",
     "text": [
      "Epoch 98/100\n"
     ]
    },
    {
     "name": "stderr",
     "output_type": "stream",
     "text": [
      "100%|██████████| 15/15 [00:05<00:00,  2.67it/s, loss=4.2445, acc=0.8471, kr=1.7312, val_loss=4.7031, val_acc=0.8381, val_kr=1.7122]\n"
     ]
    },
    {
     "name": "stdout",
     "output_type": "stream",
     "text": [
      "Epoch 99/100\n"
     ]
    },
    {
     "name": "stderr",
     "output_type": "stream",
     "text": [
      "100%|██████████| 15/15 [00:05<00:00,  2.66it/s, loss=4.5737, acc=0.8452, kr=1.7328, val_loss=4.6477, val_acc=0.8378, val_kr=1.7302]\n"
     ]
    },
    {
     "name": "stdout",
     "output_type": "stream",
     "text": [
      "Epoch 100/100\n"
     ]
    },
    {
     "name": "stderr",
     "output_type": "stream",
     "text": [
      "100%|██████████| 15/15 [00:05<00:00,  2.62it/s, loss=4.2505, acc=0.8469, kr=1.7360, val_loss=4.6416, val_acc=0.8402, val_kr=1.7309]\n"
     ]
    }
   ],
   "source": [
    "from tqdm import tqdm\n",
    "\n",
    "epochs = 100\n",
    "optimizer = torch.optim.Adam(lr=1e-4, params=model.parameters())\n",
    "hkr_loss = torchlip.HKRMulticlassLoss(alpha=100, min_margin=0.25)\n",
    "\n",
    "for epoch in range(epochs):\n",
    "    m_kr, m_acc = 0, 0\n",
    "\n",
    "    print(f\"Epoch {epoch + 1}/{epochs}\")\n",
    "    with tqdm(total=len(train_loader)) as tsteps:\n",
    "        for step, (data, target) in enumerate(train_loader):\n",
    "            tsteps.update()\n",
    "\n",
    "            # For multiclass HKR loss, the targets must be one-hot encoded\n",
    "            target = torch.nn.functional.one_hot(target, num_classes=10)\n",
    "            data, target = data.to(device), target.to(device)\n",
    "\n",
    "            # Forward + backward pass\n",
    "            optimizer.zero_grad()\n",
    "            output = model(data)\n",
    "            loss = hkr_loss(output, target)\n",
    "            loss.backward()\n",
    "            optimizer.step()\n",
    "\n",
    "            # Compute metrics on batch\n",
    "            m_kr += torchlip.functional.kr_multiclass_loss(output, target)\n",
    "            m_acc += (output.argmax(dim=1) == target.argmax(dim=1)).sum() / len(target)\n",
    "\n",
    "            # Print metrics of current batch\n",
    "            postfix = {\n",
    "                k: \"{:.04f}\".format(v)\n",
    "                for k, v in {\n",
    "                    \"loss\": loss,\n",
    "                    \"acc\": m_acc / (step + 1),\n",
    "                    \"kr\": m_kr / (step + 1),\n",
    "                }.items()\n",
    "            }\n",
    "            tsteps.set_postfix(postfix)\n",
    "\n",
    "        # Compute test loss for the current epoch\n",
    "        test_output, test_targets = [], []\n",
    "        for data, target in test_loader:\n",
    "            data, target = data.to(device), target.to(device)\n",
    "            test_output.append(model(data).detach().cpu())\n",
    "            test_targets.append(\n",
    "                torch.nn.functional.one_hot(target, num_classes=10).detach().cpu()\n",
    "            )\n",
    "        test_output = torch.cat(test_output)\n",
    "        test_targets = torch.cat(test_targets)\n",
    "\n",
    "        val_loss = hkr_loss(test_output, test_targets)\n",
    "        val_kr = torchlip.functional.kr_multiclass_loss(test_output, test_targets)\n",
    "        val_acc = (\n",
    "            (test_output.argmax(dim=1) == test_targets.argmax(dim=1)).float().mean()\n",
    "        )\n",
    "\n",
    "        # Print metrics for the current epoch\n",
    "        postfix.update(\n",
    "            {\n",
    "                f\"val_{k}\": f\"{v:.04f}\"\n",
    "                for k, v in {\n",
    "                    \"loss\": hkr_loss(test_output, test_targets),\n",
    "                    \"acc\": (test_output.argmax(dim=1) == test_targets.argmax(dim=1))\n",
    "                    .float()\n",
    "                    .mean(),\n",
    "                    \"kr\": torchlip.functional.kr_multiclass_loss(\n",
    "                        test_output, test_targets\n",
    "                    ),\n",
    "                }.items()\n",
    "            }\n",
    "        )\n",
    "        tsteps.set_postfix(postfix)\n"
   ]
  },
  {
   "cell_type": "markdown",
   "metadata": {},
   "source": [
    "## 4. Model export\n",
    "\n",
    "Once training is finished, the model can be optimized for inference by using the\n",
    "`vanilla_export()` method. The `torchlip` layers are converted to their PyTorch\n",
    "counterparts, e.g. `SpectralConv2d` layers will be converted into `torch.nn.Conv2d`\n",
    "layers.\n"
   ]
  },
  {
   "cell_type": "code",
   "execution_count": 4,
   "metadata": {},
   "outputs": [
    {
     "data": {
      "text/plain": [
       "Sequential(\n",
       "  (0): Conv2d(1, 16, kernel_size=(3, 3), stride=(1, 1), padding=same)\n",
       "  (1): GroupSort2()\n",
       "  (2): ScaledL2NormPool2d(kernel_size=(2, 2), stride=(2, 2), padding=0)\n",
       "  (3): Conv2d(16, 32, kernel_size=(3, 3), stride=(1, 1), padding=same)\n",
       "  (4): GroupSort2()\n",
       "  (5): ScaledL2NormPool2d(kernel_size=(2, 2), stride=(2, 2), padding=0)\n",
       "  (6): Flatten(start_dim=1, end_dim=-1)\n",
       "  (7): Linear(in_features=1568, out_features=64, bias=True)\n",
       "  (8): GroupSort2()\n",
       "  (9): Linear(in_features=64, out_features=10, bias=False)\n",
       ")"
      ]
     },
     "execution_count": 4,
     "metadata": {},
     "output_type": "execute_result"
    }
   ],
   "source": [
    "vanilla_model = model.vanilla_export()\n",
    "vanilla_model.eval()\n",
    "vanilla_model.to(device)\n"
   ]
  },
  {
   "cell_type": "markdown",
   "metadata": {},
   "source": [
    "## 5. Robustness evaluation: certificate generation and adversarial attacks\n",
    "\n",
    "A Lipschitz network provides certificates guaranteeing that there is no adversarial\n",
    "attack smaller than the certificates. We will show how to compute a certificate for a\n",
    "given image sample.\n",
    "\n",
    "We will also run attacks on 10 images (one per class) and show that the distance between\n",
    "the obtained adversarial images and the original images is greater than the\n",
    "certificates. The `foolbox` library is used to perform adversarial attacks.\n"
   ]
  },
  {
   "cell_type": "code",
   "execution_count": 5,
   "metadata": {},
   "outputs": [],
   "source": [
    "import numpy as np\n",
    "\n",
    "# Select only the first batch from the test set\n",
    "sub_data, sub_targets = iter(test_loader).next()\n",
    "sub_data, sub_targets = sub_data.to(device), sub_targets.to(device)\n",
    "\n",
    "# Drop misclassified elements\n",
    "output = vanilla_model(sub_data)\n",
    "well_classified_mask = output.argmax(dim=-1) == sub_targets\n",
    "sub_data = sub_data[well_classified_mask]\n",
    "sub_targets = sub_targets[well_classified_mask]\n",
    "\n",
    "# Retrieve one image per class\n",
    "images_list, targets_list = [], []\n",
    "for i in range(10):\n",
    "    # Select the elements of the i-th label and keep the first one\n",
    "    label_mask = sub_targets == i\n",
    "    x = sub_data[label_mask][0]\n",
    "    y = sub_targets[label_mask][0]\n",
    "\n",
    "    images_list.append(x)\n",
    "    targets_list.append(y)\n",
    "\n",
    "images = torch.stack(images_list)\n",
    "targets = torch.stack(targets_list)\n"
   ]
  },
  {
   "cell_type": "markdown",
   "metadata": {},
   "source": [
    "In order to build a certificate $\\mathcal{M}$ for a given sample, we take the top-2\n",
    "output and apply the following formula:\n",
    "\n",
    "$$ \\mathcal{M} = \\frac{\\text{top}_1 - \\text{top}_2}{\\sqrt{2}} $$\n",
    "\n",
    "This certificate is a guarantee that no L2 attack can defeat the given image sample with\n",
    "a robustness radius $\\epsilon$ lower than the certificate, i.e.\n",
    "\n",
    "$$ \\epsilon \\geq \\mathcal{M} $$\n",
    "\n",
    "In the following cell, we attack the model on the ten selected images and compare the\n",
    "obtained radius $\\epsilon$ with the certificates $\\mathcal{M}$. In this setup,\n",
    "`L2CarliniWagnerAttack` from `foolbox` is used but in practice as these kind of networks\n",
    "are gradient norm preserving, other attacks gives very similar results.\n"
   ]
  },
  {
   "cell_type": "code",
   "execution_count": 6,
   "metadata": {},
   "outputs": [
    {
     "name": "stdout",
     "output_type": "stream",
     "text": [
      "Image #     Certificate     Distance to adversarial\n",
      "---------------------------------------------------\n",
      "Image 0        0.492                1.61\n",
      "Image 1        1.263                3.36\n",
      "Image 2        0.331                1.24\n",
      "Image 3        0.748                1.80\n",
      "Image 4        0.232                0.71\n",
      "Image 5        0.211                0.50\n",
      "Image 6        0.159                0.61\n",
      "Image 7        0.502                1.10\n",
      "Image 8        0.976                2.46\n",
      "Image 9        0.153                0.41\n"
     ]
    }
   ],
   "source": [
    "import foolbox as fb\n",
    "\n",
    "# Compute certificates\n",
    "values, _ = vanilla_model(images).topk(k=2)\n",
    "certificates = (values[:, 0] - values[:, 1]) / np.sqrt(2)\n",
    "\n",
    "# Run Carlini & Wagner attack\n",
    "fmodel = fb.PyTorchModel(vanilla_model, bounds=(0.0, 1.0), device=device)\n",
    "attack = fb.attacks.L2CarliniWagnerAttack(binary_search_steps=6, steps=8000)\n",
    "_, advs, success = attack(fmodel, images, targets, epsilons=None)\n",
    "dist_to_adv = (images - advs).square().sum(dim=(1, 2, 3)).sqrt()\n",
    "\n",
    "# Print results\n",
    "print(\"Image #     Certificate     Distance to adversarial\")\n",
    "print(\"---------------------------------------------------\")\n",
    "for i in range(len(certificates)):\n",
    "    print(f\"Image {i}        {certificates[i]:.3f}                {dist_to_adv[i]:.2f}\")\n"
   ]
  },
  {
   "cell_type": "markdown",
   "metadata": {},
   "source": [
    "Finally, we can take a visual look at the obtained images. When looking at the\n",
    "adversarial examples, we can see that the network has interesting properties:\n",
    "\n",
    "- **Predictability**: by looking at the certificates, we can predict if the adversarial\n",
    "  example will be close or not to the original image.\n",
    "- **Disparity among classes**: as we can see, the attacks are very efficent on similar\n",
    "  classes (e.g. T-shirt/top, and Shirt). This denotes that all classes are not made\n",
    "  equal regarding robustness.\n",
    "- **Explainability**: the network is more explainable as attacks can be used as\n",
    "  counterfactuals. We can tell that removing the inscription on a T-shirt turns it into\n",
    "  a shirt makes sense. Non-robust examples reveal that the network relies on textures\n",
    "  rather on shapes to make its decision.\n"
   ]
  },
  {
   "cell_type": "code",
   "execution_count": 7,
   "metadata": {},
   "outputs": [
    {
     "data": {
      "image/png": "[encoded data removed]",
      "text/plain": [
       "<Figure size 324x1080 with 30 Axes>"
      ]
     },
     "metadata": {},
     "output_type": "display_data"
    }
   ],
   "source": [
    "import matplotlib.pyplot as plt\n",
    "\n",
    "def adversarial_viz(model, images, advs, class_names):\n",
    "    \"\"\"\n",
    "    This functions shows for each image sample:\n",
    "    - the original image\n",
    "    - the adversarial image\n",
    "    - the difference map\n",
    "    - the certificate and the observed distance to adversarial\n",
    "    \"\"\"\n",
    "    scale = 1.5\n",
    "    nb_imgs = images.shape[0]\n",
    "\n",
    "    # Compute certificates\n",
    "    values, _ = model(images).topk(k=2)\n",
    "    certificates = (values[:, 0] - values[:, 1]) / np.sqrt(2)\n",
    "\n",
    "    # Compute distance between image and its adversarial\n",
    "    dist_to_adv = (images - advs).square().sum(dim=(1, 2, 3)).sqrt()\n",
    "\n",
    "    # Find predicted classes for images and their adversarials\n",
    "    orig_classes = [class_names[i] for i in model(images).argmax(dim=-1)]\n",
    "    advs_classes = [class_names[i] for i in model(advs).argmax(dim=-1)]\n",
    "\n",
    "    # Compute difference maps\n",
    "    advs = advs.detach().cpu()\n",
    "    images = images.detach().cpu()\n",
    "    diff_pos = np.clip(advs - images, 0, 1.0)\n",
    "    diff_neg = np.clip(images - advs, 0, 1.0)\n",
    "    diff_map = np.concatenate(\n",
    "        [diff_neg, diff_pos, np.zeros_like(diff_neg)], axis=1\n",
    "    ).transpose((0, 2, 3, 1))\n",
    "\n",
    "    # Create plot\n",
    "    def _set_ax(ax, title):\n",
    "        ax.set_title(title)\n",
    "        ax.set_xticks([])\n",
    "        ax.set_yticks([])\n",
    "        ax.axis(\"off\")\n",
    "\n",
    "    figsize = (3 * scale, nb_imgs * scale)\n",
    "    _, axes = plt.subplots(\n",
    "        ncols=3, nrows=nb_imgs, figsize=figsize, squeeze=False, constrained_layout=True\n",
    "    )\n",
    "    for i in range(nb_imgs):\n",
    "        _set_ax(axes[i][0], orig_classes[i])\n",
    "        axes[i][0].imshow(images[i].squeeze(), cmap=\"gray\")\n",
    "        _set_ax(axes[i][1], advs_classes[i])\n",
    "        axes[i][1].imshow(advs[i].squeeze(), cmap=\"gray\")\n",
    "        _set_ax(axes[i][2], f\"certif: {certificates[i]:.2f}, obs: {dist_to_adv[i]:.2f}\")\n",
    "        axes[i][2].imshow(diff_map[i] / diff_map[i].max())\n",
    "\n",
    "\n",
    "adversarial_viz(vanilla_model, images, advs, test_set.classes)\n"
   ]
  }
 ],
 "metadata": {
  "kernelspec": {
   "display_name": "Python 3",
   "language": "python",
   "name": "python3"
  },
  "language_info": {
   "codemirror_mode": {
    "name": "ipython",
    "version": 3
   },
   "file_extension": ".py",
   "mimetype": "text/x-python",
   "name": "python",
   "nbconvert_exporter": "python",
   "pygments_lexer": "ipython3",
   "version": "3.7.7"
  }
 },
 "nbformat": 4,
 "nbformat_minor": 4
}
